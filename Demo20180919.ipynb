{
 "cells": [
  {
   "cell_type": "markdown",
   "metadata": {},
   "source": [
    "## HTTP Code\n",
    "- https://zh.wikipedia.org/wiki/HTTP%E7%8A%B6%E6%80%81%E7%A0%81"
   ]
  },
  {
   "cell_type": "markdown",
   "metadata": {},
   "source": [
    "## GET"
   ]
  },
  {
   "cell_type": "code",
   "execution_count": 1,
   "metadata": {},
   "outputs": [
    {
     "data": {
      "text/plain": [
       "<Response [200]>"
      ]
     },
     "execution_count": 1,
     "metadata": {},
     "output_type": "execute_result"
    }
   ],
   "source": [
    "import requests\n",
    "res = requests.get('https://tw.appledaily.com/new/realtime')\n",
    "res"
   ]
  },
  {
   "cell_type": "code",
   "execution_count": 5,
   "metadata": {},
   "outputs": [
    {
     "data": {
      "text/plain": [
       "requests.models.Response"
      ]
     },
     "execution_count": 5,
     "metadata": {},
     "output_type": "execute_result"
    }
   ],
   "source": [
    "type(res)"
   ]
  },
  {
   "cell_type": "code",
   "execution_count": 3,
   "metadata": {},
   "outputs": [],
   "source": [
    "#res.text"
   ]
  },
  {
   "cell_type": "markdown",
   "metadata": {},
   "source": [
    "## POST"
   ]
  },
  {
   "cell_type": "code",
   "execution_count": 4,
   "metadata": {},
   "outputs": [
    {
     "data": {
      "text/plain": [
       "<Response [200]>"
      ]
     },
     "execution_count": 4,
     "metadata": {},
     "output_type": "execute_result"
    }
   ],
   "source": [
    "url = 'https://www.thsrc.com.tw/tw/TimeTable/Search'\n",
    "\n",
    "payload = {\n",
    "'StartStationName':  '台北站',\n",
    "'EndStationName':  '嘉義站',\n",
    "'SearchType': 'S',\n",
    "'StartStation': '977abb69-413a-4ccf-a109-0272c24fd490',\n",
    "'EndStation': '60831846-f0e4-47f6-9b5b-46323ebdcef7',\n",
    "'DepartueSearchDate': '2018/09/21',\n",
    "'DepartueSearchTime': '08:30'    \n",
    "    \n",
    "}\n",
    "\n",
    "\n",
    "res = requests.post(url, data = payload)\n",
    "res"
   ]
  },
  {
   "cell_type": "code",
   "execution_count": 6,
   "metadata": {},
   "outputs": [],
   "source": [
    "#res.text"
   ]
  },
  {
   "cell_type": "markdown",
   "metadata": {},
   "source": [
    "## Parse Web Page"
   ]
  },
  {
   "cell_type": "code",
   "execution_count": 4,
   "metadata": {},
   "outputs": [
    {
     "name": "stdout",
     "output_type": "stream",
     "text": [
      "\n",
      "\n",
      "Hello World\n",
      "This is link1\n",
      "This is link2\n",
      "\n",
      "\n"
     ]
    }
   ],
   "source": [
    "from bs4 import BeautifulSoup \n",
    "html_sample = ''' \n",
    "<html> \n",
    " <body> \n",
    " <h1 id=\"title\">Hello World</h1> \n",
    " <a href=\"#\" class=\"link\">This is link1</a> \n",
    " <a href=\"# link2\" class=\"link\">This is link2</a> \n",
    " </body> \n",
    " </html>'''\n",
    "\n",
    "soup = BeautifulSoup(html_sample, 'lxml')\n",
    "print(soup.text)\n"
   ]
  },
  {
   "cell_type": "code",
   "execution_count": 6,
   "metadata": {},
   "outputs": [
    {
     "data": {
      "text/plain": [
       "bs4.BeautifulSoup"
      ]
     },
     "execution_count": 6,
     "metadata": {},
     "output_type": "execute_result"
    }
   ],
   "source": [
    "type(soup)"
   ]
  },
  {
   "cell_type": "code",
   "execution_count": 7,
   "metadata": {},
   "outputs": [
    {
     "data": {
      "text/plain": [
       "<h1 id=\"title\">Hello World</h1>"
      ]
     },
     "execution_count": 7,
     "metadata": {},
     "output_type": "execute_result"
    }
   ],
   "source": [
    "soup.select_one('h1')"
   ]
  },
  {
   "cell_type": "code",
   "execution_count": 8,
   "metadata": {},
   "outputs": [
    {
     "data": {
      "text/plain": [
       "'Hello World'"
      ]
     },
     "execution_count": 8,
     "metadata": {},
     "output_type": "execute_result"
    }
   ],
   "source": [
    "soup.select_one('h1').text"
   ]
  },
  {
   "cell_type": "code",
   "execution_count": 9,
   "metadata": {},
   "outputs": [
    {
     "data": {
      "text/plain": [
       "<a class=\"link\" href=\"#\">This is link1</a>"
      ]
     },
     "execution_count": 9,
     "metadata": {},
     "output_type": "execute_result"
    }
   ],
   "source": [
    "soup.select_one('a')"
   ]
  },
  {
   "cell_type": "code",
   "execution_count": 10,
   "metadata": {},
   "outputs": [
    {
     "data": {
      "text/plain": [
       "[<a class=\"link\" href=\"#\">This is link1</a>,\n",
       " <a class=\"link\" href=\"# link2\">This is link2</a>]"
      ]
     },
     "execution_count": 10,
     "metadata": {},
     "output_type": "execute_result"
    }
   ],
   "source": [
    "soup.select('a')"
   ]
  },
  {
   "cell_type": "markdown",
   "metadata": {},
   "source": [
    "## Based on CSS "
   ]
  },
  {
   "cell_type": "code",
   "execution_count": 13,
   "metadata": {},
   "outputs": [
    {
     "data": {
      "text/plain": [
       "[<h1 id=\"title\">Hello World</h1>]"
      ]
     },
     "execution_count": 13,
     "metadata": {},
     "output_type": "execute_result"
    }
   ],
   "source": [
    "# id => #\n",
    "soup.select('#title')"
   ]
  },
  {
   "cell_type": "code",
   "execution_count": 14,
   "metadata": {},
   "outputs": [
    {
     "data": {
      "text/plain": [
       "[<a class=\"link\" href=\"#\">This is link1</a>,\n",
       " <a class=\"link\" href=\"# link2\">This is link2</a>]"
      ]
     },
     "execution_count": 14,
     "metadata": {},
     "output_type": "execute_result"
    }
   ],
   "source": [
    "# class => .\n",
    "soup.select('.link')"
   ]
  },
  {
   "cell_type": "code",
   "execution_count": 15,
   "metadata": {},
   "outputs": [
    {
     "data": {
      "text/plain": [
       "[<h1 id=\"title\">Hello World</h1>]"
      ]
     },
     "execution_count": 15,
     "metadata": {},
     "output_type": "execute_result"
    }
   ],
   "source": [
    "soup.select('h1#title')"
   ]
  },
  {
   "cell_type": "code",
   "execution_count": 16,
   "metadata": {},
   "outputs": [
    {
     "data": {
      "text/plain": [
       "[<h1 id=\"title\">Hello World</h1>]"
      ]
     },
     "execution_count": 16,
     "metadata": {},
     "output_type": "execute_result"
    }
   ],
   "source": [
    "soup.select('body h1')"
   ]
  },
  {
   "cell_type": "code",
   "execution_count": 17,
   "metadata": {},
   "outputs": [
    {
     "data": {
      "text/plain": [
       "[<h1 id=\"title\">Hello World</h1>]"
      ]
     },
     "execution_count": 17,
     "metadata": {},
     "output_type": "execute_result"
    }
   ],
   "source": [
    "soup.select('body h1#title')"
   ]
  },
  {
   "cell_type": "code",
   "execution_count": 19,
   "metadata": {},
   "outputs": [
    {
     "name": "stdout",
     "output_type": "stream",
     "text": [
      "This is link1\n",
      "This is link2\n"
     ]
    }
   ],
   "source": [
    "alinks = soup.select('a')\n",
    "for link in alinks:\n",
    "    print(link.text)"
   ]
  },
  {
   "cell_type": "code",
   "execution_count": 20,
   "metadata": {},
   "outputs": [
    {
     "name": "stdout",
     "output_type": "stream",
     "text": [
      "#\n",
      "# link2\n"
     ]
    }
   ],
   "source": [
    "alinks = soup.select('a')\n",
    "for link in alinks:\n",
    "    print(link['href'])"
   ]
  },
  {
   "cell_type": "markdown",
   "metadata": {},
   "source": [
    "## 蘋果爬蟲"
   ]
  },
  {
   "cell_type": "code",
   "execution_count": 21,
   "metadata": {},
   "outputs": [],
   "source": [
    "import requests\n",
    "res = requests.get('https://tw.appledaily.com/new/realtime')"
   ]
  },
  {
   "cell_type": "code",
   "execution_count": 22,
   "metadata": {},
   "outputs": [],
   "source": [
    "from bs4 import BeautifulSoup\n",
    "soup = BeautifulSoup(res.text, 'lxml')"
   ]
  },
  {
   "cell_type": "code",
   "execution_count": 26,
   "metadata": {},
   "outputs": [],
   "source": [
    "# li and class = rtddt\n",
    "#soup.select('li.rtddt')\n",
    "\n",
    "# li and class = rtddt and class = hsv\n",
    "#soup.select('li.rtddt.hsv')\n",
    "\n",
    "# li and class = rtddt and below a\n",
    "#soup.select('li.rtddt a')"
   ]
  },
  {
   "cell_type": "code",
   "execution_count": 41,
   "metadata": {},
   "outputs": [
    {
     "name": "stdout",
     "output_type": "stream",
     "text": [
      "花蓮開出首張搜救罰單　6登山客均攤92萬...(62623) 15:30 社會 https://tw.news.appledaily.com/local/realtime/20180919/1432625/\n",
      "==================================\n",
      "先潑漆再擺寶蓮燈　「油漆哥」恐嚇不二家挨...(67958) 15:30 社會 https://tw.news.appledaily.com/local/realtime/20180919/1432457/\n",
      "==================================\n",
      "AV女優自認遇真愛　被變態富二代活活玩死(55074) 15:30 國際 https://tw.news.appledaily.com/international/realtime/20180919/1432441/\n",
      "==================================\n",
      "女師駕車衝落15米山谷　警消聽聲辨位搶救... 15:28 社會 https://tw.news.appledaily.com/local/realtime/20180919/1432768/\n",
      "==================================\n",
      "蘋果被破解！「台灣駭客天才」1元買502...(157597) 15:27 3C https://tw.lifestyle.appledaily.com/gadget/realtime/20180919/1432526/\n",
      "==================================\n",
      "​【管案】台大生抗告有信心成功　最壞打算...(1003) 15:25 生活 https://tw.news.appledaily.com/life/realtime/20180919/1432558/\n",
      "==================================\n",
      "出面斥假訊息流竄　謝長廷：壓力與批判讓蘇...(14422) 15:22 政治 https://tw.news.appledaily.com/politics/realtime/20180919/1432569/\n",
      "==================================\n",
      "【獨家回應】「太精彩！」張鈞甯被爆抓姦男...(341007) 15:21 娛樂 https://tw.entertainment.appledaily.com/realtime/20180919/1432455/\n",
      "==================================\n",
      "Google One即將登台　100GB... 15:21 財經 https://tw.finance.appledaily.com/realtime/20180919/1432778/\n",
      "==================================\n",
      "永和分屍美籍兇嫌否認犯案　遭收押禁見 15:20 社會 https://tw.news.appledaily.com/local/realtime/20180919/1432766/\n",
      "==================================\n",
      "北農董事長陳景峻請辭　農糧署主秘代行董座(1904) 15:17 生活 https://tw.news.appledaily.com/life/realtime/20180919/1432739/\n",
      "==================================\n",
      "【股王轉讓持股】林恩平家族235億股票轉...(19649) 15:15 財經 https://tw.finance.appledaily.com/realtime/20180919/1432463/\n",
      "==================================\n",
      "轎車被飛來聯結車輪砸中　女駕駛嚇得吃手手 15:14 社會 https://tw.news.appledaily.com/local/realtime/20180919/1432750/\n",
      "==================================\n",
      "扁任姚文智團隊最高顧問　中監：評估是否踩...(3) 15:13 社會 https://tw.news.appledaily.com/local/realtime/20180919/1432758/\n",
      "==================================\n",
      "​環球晶董座：配合客戶需求　進行全球產能... 15:13 財經 https://tw.finance.appledaily.com/realtime/20180919/1432774/\n",
      "==================================\n",
      "陳學聖與中小企業主座談　十年內翻轉八德(33) 15:10 政治 https://tw.news.appledaily.com/politics/realtime/20180919/1432765/\n",
      "==================================\n",
      "周華健自比「內務大臣」　突襲皇后辛曉琪(29) 15:10 娛樂 https://tw.entertainment.appledaily.com/realtime/20180919/1432713/\n",
      "==================================\n",
      "落跑山友搭機下山非首次　4年前扭傷腳踝讓...(56282) 15:09 社會 https://tw.news.appledaily.com/local/realtime/20180919/1432481/\n",
      "==================================\n",
      "天主教雜誌報導　中梵月底簽署協議(33) 15:08 國際 https://tw.news.appledaily.com/international/realtime/20180919/1432764/\n",
      "==================================\n",
      "​毒蟲攜道具槍拒檢　駕車市區逆向狂飆  (1120) 15:07 社會 https://tw.news.appledaily.com/local/realtime/20180919/1432520/\n",
      "==================================\n",
      "台茂周年慶27日開跑　業績挑戰8.1億(146) 15:07 財經 https://tw.finance.appledaily.com/realtime/20180919/1432760/\n",
      "==================================\n",
      "【蘋果民調6】陳其邁隱憂　4年前投陳菊這...(696) 15:06 政治 https://tw.news.appledaily.com/politics/realtime/20180919/1432755/\n",
      "==================================\n",
      "通緝犯與女友吵架欲跳樓　攀雨遮體力不支墜...(39427) 15:05 社會 https://tw.news.appledaily.com/local/realtime/20180919/1432458/\n",
      "==================================\n",
      "淫狼廁所性侵國中生　8萬交保家屬怒(2078) 15:05 社會 https://tw.news.appledaily.com/local/realtime/20180919/1432592/\n",
      "==================================\n",
      "偷太多東西扭到手　半路找國術館推拿被逮(122) 15:05 社會 https://tw.news.appledaily.com/local/realtime/20180919/1432707/\n",
      "==================================\n",
      "改裝效益　大江購物中心周年慶業績拚6.5...(88) 15:04 財經 https://tw.finance.appledaily.com/realtime/20180919/1432762/\n",
      "==================================\n",
      "又對傅恆幻滅了！自責暴力情人後　被抓包劈...(1742) 15:02 娛樂 https://tw.entertainment.appledaily.com/realtime/20180919/1432613/\n",
      "==================================\n",
      "假新聞影響選情　蔡英文鼓勵：好政績不怕比...(1111) 14:52 政治 https://tw.news.appledaily.com/politics/realtime/20180919/1432746/\n",
      "==================================\n",
      "2百公斤K他命藏鋼板夾層　調查局出動銲槍...(1018) 14:52 社會 https://tw.news.appledaily.com/local/realtime/20180919/1432742/\n",
      "==================================\n",
      "淘寶進軍LINE購物　不限金額均5%回饋(1328) 14:47 3C https://tw.lifestyle.appledaily.com/gadget/realtime/20180919/1432736/\n",
      "==================================\n"
     ]
    }
   ],
   "source": [
    "# soup.select('li.rtddt a')\n",
    "for news in soup.select('.rtddt a'):\n",
    "    #print(news)\n",
    "    #print(news.select_one('h1'))\n",
    "    #print(news.select('h1'))\n",
    "    title = news.select_one('h1').text\n",
    "    category = news.select_one('h2').text\n",
    "    dt = news.select_one('time').text\n",
    "    link = news.get('href')\n",
    "    print(title, dt, category, link)\n",
    "    print('==================================')"
   ]
  },
  {
   "cell_type": "code",
   "execution_count": null,
   "metadata": {},
   "outputs": [],
   "source": []
  }
 ],
 "metadata": {
  "kernelspec": {
   "display_name": "Python 3",
   "language": "python",
   "name": "python3"
  },
  "language_info": {
   "codemirror_mode": {
    "name": "ipython",
    "version": 3
   },
   "file_extension": ".py",
   "mimetype": "text/x-python",
   "name": "python",
   "nbconvert_exporter": "python",
   "pygments_lexer": "ipython3",
   "version": "3.6.2"
  }
 },
 "nbformat": 4,
 "nbformat_minor": 2
}
