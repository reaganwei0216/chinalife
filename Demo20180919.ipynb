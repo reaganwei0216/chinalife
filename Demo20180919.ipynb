{
 "cells": [
  {
   "cell_type": "markdown",
   "metadata": {},
   "source": [
    "## HTTP Code\n",
    "- https://zh.wikipedia.org/wiki/HTTP%E7%8A%B6%E6%80%81%E7%A0%81"
   ]
  },
  {
   "cell_type": "markdown",
   "metadata": {},
   "source": [
    "## GET"
   ]
  },
  {
   "cell_type": "code",
   "execution_count": 1,
   "metadata": {},
   "outputs": [
    {
     "data": {
      "text/plain": [
       "<Response [200]>"
      ]
     },
     "execution_count": 1,
     "metadata": {},
     "output_type": "execute_result"
    }
   ],
   "source": [
    "import requests\n",
    "res = requests.get('https://tw.appledaily.com/new/realtime')\n",
    "res"
   ]
  },
  {
   "cell_type": "code",
   "execution_count": 5,
   "metadata": {},
   "outputs": [
    {
     "data": {
      "text/plain": [
       "requests.models.Response"
      ]
     },
     "execution_count": 5,
     "metadata": {},
     "output_type": "execute_result"
    }
   ],
   "source": [
    "type(res)"
   ]
  },
  {
   "cell_type": "code",
   "execution_count": 3,
   "metadata": {},
   "outputs": [],
   "source": [
    "#res.text"
   ]
  },
  {
   "cell_type": "markdown",
   "metadata": {},
   "source": [
    "## POST"
   ]
  },
  {
   "cell_type": "code",
   "execution_count": 4,
   "metadata": {},
   "outputs": [
    {
     "data": {
      "text/plain": [
       "<Response [200]>"
      ]
     },
     "execution_count": 4,
     "metadata": {},
     "output_type": "execute_result"
    }
   ],
   "source": [
    "url = 'https://www.thsrc.com.tw/tw/TimeTable/Search'\n",
    "\n",
    "payload = {\n",
    "'StartStationName':  '台北站',\n",
    "'EndStationName':  '嘉義站',\n",
    "'SearchType': 'S',\n",
    "'StartStation': '977abb69-413a-4ccf-a109-0272c24fd490',\n",
    "'EndStation': '60831846-f0e4-47f6-9b5b-46323ebdcef7',\n",
    "'DepartueSearchDate': '2018/09/21',\n",
    "'DepartueSearchTime': '08:30'    \n",
    "    \n",
    "}\n",
    "\n",
    "\n",
    "res = requests.post(url, data = payload)\n",
    "res"
   ]
  },
  {
   "cell_type": "code",
   "execution_count": 6,
   "metadata": {},
   "outputs": [],
   "source": [
    "#res.text"
   ]
  },
  {
   "cell_type": "markdown",
   "metadata": {},
   "source": [
    "## Parse Web Page"
   ]
  },
  {
   "cell_type": "code",
   "execution_count": 4,
   "metadata": {},
   "outputs": [
    {
     "name": "stdout",
     "output_type": "stream",
     "text": [
      "\n",
      "\n",
      "Hello World\n",
      "This is link1\n",
      "This is link2\n",
      "\n",
      "\n"
     ]
    }
   ],
   "source": [
    "from bs4 import BeautifulSoup \n",
    "html_sample = ''' \n",
    "<html> \n",
    " <body> \n",
    " <h1 id=\"title\">Hello World</h1> \n",
    " <a href=\"#\" class=\"link\">This is link1</a> \n",
    " <a href=\"# link2\" class=\"link\">This is link2</a> \n",
    " </body> \n",
    " </html>'''\n",
    "\n",
    "soup = BeautifulSoup(html_sample, 'lxml')\n",
    "print(soup.text)\n"
   ]
  },
  {
   "cell_type": "code",
   "execution_count": 6,
   "metadata": {},
   "outputs": [
    {
     "data": {
      "text/plain": [
       "bs4.BeautifulSoup"
      ]
     },
     "execution_count": 6,
     "metadata": {},
     "output_type": "execute_result"
    }
   ],
   "source": [
    "type(soup)"
   ]
  },
  {
   "cell_type": "code",
   "execution_count": 7,
   "metadata": {},
   "outputs": [
    {
     "data": {
      "text/plain": [
       "<h1 id=\"title\">Hello World</h1>"
      ]
     },
     "execution_count": 7,
     "metadata": {},
     "output_type": "execute_result"
    }
   ],
   "source": [
    "soup.select_one('h1')"
   ]
  },
  {
   "cell_type": "code",
   "execution_count": 8,
   "metadata": {},
   "outputs": [
    {
     "data": {
      "text/plain": [
       "'Hello World'"
      ]
     },
     "execution_count": 8,
     "metadata": {},
     "output_type": "execute_result"
    }
   ],
   "source": [
    "soup.select_one('h1').text"
   ]
  },
  {
   "cell_type": "code",
   "execution_count": 9,
   "metadata": {},
   "outputs": [
    {
     "data": {
      "text/plain": [
       "<a class=\"link\" href=\"#\">This is link1</a>"
      ]
     },
     "execution_count": 9,
     "metadata": {},
     "output_type": "execute_result"
    }
   ],
   "source": [
    "soup.select_one('a')"
   ]
  },
  {
   "cell_type": "code",
   "execution_count": 10,
   "metadata": {},
   "outputs": [
    {
     "data": {
      "text/plain": [
       "[<a class=\"link\" href=\"#\">This is link1</a>,\n",
       " <a class=\"link\" href=\"# link2\">This is link2</a>]"
      ]
     },
     "execution_count": 10,
     "metadata": {},
     "output_type": "execute_result"
    }
   ],
   "source": [
    "soup.select('a')"
   ]
  },
  {
   "cell_type": "markdown",
   "metadata": {},
   "source": [
    "## Based on CSS "
   ]
  },
  {
   "cell_type": "code",
   "execution_count": 13,
   "metadata": {},
   "outputs": [
    {
     "data": {
      "text/plain": [
       "[<h1 id=\"title\">Hello World</h1>]"
      ]
     },
     "execution_count": 13,
     "metadata": {},
     "output_type": "execute_result"
    }
   ],
   "source": [
    "# id => #\n",
    "soup.select('#title')"
   ]
  },
  {
   "cell_type": "code",
   "execution_count": 14,
   "metadata": {},
   "outputs": [
    {
     "data": {
      "text/plain": [
       "[<a class=\"link\" href=\"#\">This is link1</a>,\n",
       " <a class=\"link\" href=\"# link2\">This is link2</a>]"
      ]
     },
     "execution_count": 14,
     "metadata": {},
     "output_type": "execute_result"
    }
   ],
   "source": [
    "# class => .\n",
    "soup.select('.link')"
   ]
  },
  {
   "cell_type": "code",
   "execution_count": 15,
   "metadata": {},
   "outputs": [
    {
     "data": {
      "text/plain": [
       "[<h1 id=\"title\">Hello World</h1>]"
      ]
     },
     "execution_count": 15,
     "metadata": {},
     "output_type": "execute_result"
    }
   ],
   "source": [
    "soup.select('h1#title')"
   ]
  },
  {
   "cell_type": "code",
   "execution_count": 16,
   "metadata": {},
   "outputs": [
    {
     "data": {
      "text/plain": [
       "[<h1 id=\"title\">Hello World</h1>]"
      ]
     },
     "execution_count": 16,
     "metadata": {},
     "output_type": "execute_result"
    }
   ],
   "source": [
    "soup.select('body h1')"
   ]
  },
  {
   "cell_type": "code",
   "execution_count": 17,
   "metadata": {},
   "outputs": [
    {
     "data": {
      "text/plain": [
       "[<h1 id=\"title\">Hello World</h1>]"
      ]
     },
     "execution_count": 17,
     "metadata": {},
     "output_type": "execute_result"
    }
   ],
   "source": [
    "soup.select('body h1#title')"
   ]
  },
  {
   "cell_type": "code",
   "execution_count": 19,
   "metadata": {},
   "outputs": [
    {
     "name": "stdout",
     "output_type": "stream",
     "text": [
      "This is link1\n",
      "This is link2\n"
     ]
    }
   ],
   "source": [
    "alinks = soup.select('a')\n",
    "for link in alinks:\n",
    "    print(link.text)"
   ]
  },
  {
   "cell_type": "code",
   "execution_count": 20,
   "metadata": {},
   "outputs": [
    {
     "name": "stdout",
     "output_type": "stream",
     "text": [
      "#\n",
      "# link2\n"
     ]
    }
   ],
   "source": [
    "alinks = soup.select('a')\n",
    "for link in alinks:\n",
    "    print(link['href'])"
   ]
  },
  {
   "cell_type": "markdown",
   "metadata": {},
   "source": [
    "## 蘋果爬蟲"
   ]
  },
  {
   "cell_type": "code",
   "execution_count": 21,
   "metadata": {},
   "outputs": [],
   "source": [
    "import requests\n",
    "res = requests.get('https://tw.appledaily.com/new/realtime')"
   ]
  },
  {
   "cell_type": "code",
   "execution_count": 22,
   "metadata": {},
   "outputs": [],
   "source": [
    "from bs4 import BeautifulSoup\n",
    "soup = BeautifulSoup(res.text, 'lxml')"
   ]
  },
  {
   "cell_type": "code",
   "execution_count": 26,
   "metadata": {},
   "outputs": [],
   "source": [
    "# li and class = rtddt\n",
    "#soup.select('li.rtddt')\n",
    "\n",
    "# li and class = rtddt and class = hsv\n",
    "#soup.select('li.rtddt.hsv')\n",
    "\n",
    "# li and class = rtddt and below a\n",
    "#soup.select('li.rtddt a')"
   ]
  },
  {
   "cell_type": "code",
   "execution_count": 41,
   "metadata": {},
   "outputs": [
    {
     "name": "stdout",
     "output_type": "stream",
     "text": [
      "花蓮開出首張搜救罰單　6登山客均攤92萬...(62623) 15:30 社會 https://tw.news.appledaily.com/local/realtime/20180919/1432625/\n",
      "==================================\n",
      "先潑漆再擺寶蓮燈　「油漆哥」恐嚇不二家挨...(67958) 15:30 社會 https://tw.news.appledaily.com/local/realtime/20180919/1432457/\n",
      "==================================\n",
      "AV女優自認遇真愛　被變態富二代活活玩死(55074) 15:30 國際 https://tw.news.appledaily.com/international/realtime/20180919/1432441/\n",
      "==================================\n",
      "女師駕車衝落15米山谷　警消聽聲辨位搶救... 15:28 社會 https://tw.news.appledaily.com/local/realtime/20180919/1432768/\n",
      "==================================\n",
      "蘋果被破解！「台灣駭客天才」1元買502...(157597) 15:27 3C https://tw.lifestyle.appledaily.com/gadget/realtime/20180919/1432526/\n",
      "==================================\n",
      "​【管案】台大生抗告有信心成功　最壞打算...(1003) 15:25 生活 https://tw.news.appledaily.com/life/realtime/20180919/1432558/\n",
      "==================================\n",
      "出面斥假訊息流竄　謝長廷：壓力與批判讓蘇...(14422) 15:22 政治 https://tw.news.appledaily.com/politics/realtime/20180919/1432569/\n",
      "==================================\n",
      "【獨家回應】「太精彩！」張鈞甯被爆抓姦男...(341007) 15:21 娛樂 https://tw.entertainment.appledaily.com/realtime/20180919/1432455/\n",
      "==================================\n",
      "Google One即將登台　100GB... 15:21 財經 https://tw.finance.appledaily.com/realtime/20180919/1432778/\n",
      "==================================\n",
      "永和分屍美籍兇嫌否認犯案　遭收押禁見 15:20 社會 https://tw.news.appledaily.com/local/realtime/20180919/1432766/\n",
      "==================================\n",
      "北農董事長陳景峻請辭　農糧署主秘代行董座(1904) 15:17 生活 https://tw.news.appledaily.com/life/realtime/20180919/1432739/\n",
      "==================================\n",
      "【股王轉讓持股】林恩平家族235億股票轉...(19649) 15:15 財經 https://tw.finance.appledaily.com/realtime/20180919/1432463/\n",
      "==================================\n",
      "轎車被飛來聯結車輪砸中　女駕駛嚇得吃手手 15:14 社會 https://tw.news.appledaily.com/local/realtime/20180919/1432750/\n",
      "==================================\n",
      "扁任姚文智團隊最高顧問　中監：評估是否踩...(3) 15:13 社會 https://tw.news.appledaily.com/local/realtime/20180919/1432758/\n",
      "==================================\n",
      "​環球晶董座：配合客戶需求　進行全球產能... 15:13 財經 https://tw.finance.appledaily.com/realtime/20180919/1432774/\n",
      "==================================\n",
      "陳學聖與中小企業主座談　十年內翻轉八德(33) 15:10 政治 https://tw.news.appledaily.com/politics/realtime/20180919/1432765/\n",
      "==================================\n",
      "周華健自比「內務大臣」　突襲皇后辛曉琪(29) 15:10 娛樂 https://tw.entertainment.appledaily.com/realtime/20180919/1432713/\n",
      "==================================\n",
      "落跑山友搭機下山非首次　4年前扭傷腳踝讓...(56282) 15:09 社會 https://tw.news.appledaily.com/local/realtime/20180919/1432481/\n",
      "==================================\n",
      "天主教雜誌報導　中梵月底簽署協議(33) 15:08 國際 https://tw.news.appledaily.com/international/realtime/20180919/1432764/\n",
      "==================================\n",
      "​毒蟲攜道具槍拒檢　駕車市區逆向狂飆  (1120) 15:07 社會 https://tw.news.appledaily.com/local/realtime/20180919/1432520/\n",
      "==================================\n",
      "台茂周年慶27日開跑　業績挑戰8.1億(146) 15:07 財經 https://tw.finance.appledaily.com/realtime/20180919/1432760/\n",
      "==================================\n",
      "【蘋果民調6】陳其邁隱憂　4年前投陳菊這...(696) 15:06 政治 https://tw.news.appledaily.com/politics/realtime/20180919/1432755/\n",
      "==================================\n",
      "通緝犯與女友吵架欲跳樓　攀雨遮體力不支墜...(39427) 15:05 社會 https://tw.news.appledaily.com/local/realtime/20180919/1432458/\n",
      "==================================\n",
      "淫狼廁所性侵國中生　8萬交保家屬怒(2078) 15:05 社會 https://tw.news.appledaily.com/local/realtime/20180919/1432592/\n",
      "==================================\n",
      "偷太多東西扭到手　半路找國術館推拿被逮(122) 15:05 社會 https://tw.news.appledaily.com/local/realtime/20180919/1432707/\n",
      "==================================\n",
      "改裝效益　大江購物中心周年慶業績拚6.5...(88) 15:04 財經 https://tw.finance.appledaily.com/realtime/20180919/1432762/\n",
      "==================================\n",
      "又對傅恆幻滅了！自責暴力情人後　被抓包劈...(1742) 15:02 娛樂 https://tw.entertainment.appledaily.com/realtime/20180919/1432613/\n",
      "==================================\n",
      "假新聞影響選情　蔡英文鼓勵：好政績不怕比...(1111) 14:52 政治 https://tw.news.appledaily.com/politics/realtime/20180919/1432746/\n",
      "==================================\n",
      "2百公斤K他命藏鋼板夾層　調查局出動銲槍...(1018) 14:52 社會 https://tw.news.appledaily.com/local/realtime/20180919/1432742/\n",
      "==================================\n",
      "淘寶進軍LINE購物　不限金額均5%回饋(1328) 14:47 3C https://tw.lifestyle.appledaily.com/gadget/realtime/20180919/1432736/\n",
      "==================================\n"
     ]
    }
   ],
   "source": [
    "# soup.select('li.rtddt a')\n",
    "for news in soup.select('.rtddt a'):\n",
    "    #print(news)\n",
    "    #print(news.select_one('h1'))\n",
    "    #print(news.select('h1'))\n",
    "    title = news.select_one('h1').text\n",
    "    category = news.select_one('h2').text\n",
    "    dt = news.select_one('time').text\n",
    "    link = news.get('href')\n",
    "    print(title, dt, category, link)\n",
    "    print('==================================')"
   ]
  },
  {
   "cell_type": "markdown",
   "metadata": {},
   "source": [
    "## LTN"
   ]
  },
  {
   "cell_type": "code",
   "execution_count": 42,
   "metadata": {},
   "outputs": [],
   "source": [
    "import requests\n",
    "res = requests.get('http://news.ltn.com.tw/list/breakingnews')"
   ]
  },
  {
   "cell_type": "code",
   "execution_count": 44,
   "metadata": {},
   "outputs": [],
   "source": [
    "from bs4 import BeautifulSoup\n",
    "soup = BeautifulSoup(res.text, 'lxml')"
   ]
  },
  {
   "cell_type": "code",
   "execution_count": 58,
   "metadata": {},
   "outputs": [
    {
     "name": "stdout",
     "output_type": "stream",
     "text": [
      "因為一首歌酸民崩潰脫粉 青峰洩黑暗心情 http://ent.ltn.com.tw/news/breakingnews/2556035 16:30\n",
      "======================\n",
      "陳水扁擔任姚文智市政顧問 丁守中：趕快回到監獄去 http://news.ltn.com.tw/news/politics/breakingnews/2555956 16:28\n",
      "======================\n",
      "赴警局受5小時調查  具荷拉態度放軟「想原諒」 http://ent.ltn.com.tw/news/breakingnews/2556017 16:28\n",
      "======================\n",
      "國銀首例 上海商銀完成全國首筆金融區塊鏈函證回覆 http://news.ltn.com.tw/news/business/breakingnews/2556032 16:28\n",
      "======================\n",
      "日月潭泳渡剛落幕... 網友驚見外國男子下水猛游 http://news.ltn.com.tw/news/life/breakingnews/2555981 16:26\n",
      "======================\n",
      "勞退加上自提每月可領1.9萬 3成勞工不知道 http://news.ltn.com.tw/news/business/breakingnews/2556022 16:25\n",
      "======================\n",
      "床邊抓姦分手男友 張鈞甯曬「情侣照」回應 http://ent.ltn.com.tw/news/breakingnews/2555998 16:24\n",
      "======================\n",
      "擁大量槍彈剛交保 他手槍上膛插腰際被警飛撲奪下 http://news.ltn.com.tw/news/society/breakingnews/2555917 16:24\n",
      "======================\n",
      "文在寅很忙！明與金正恩攀長白山   週日赴美見川普 http://news.ltn.com.tw/news/world/breakingnews/2555946 16:24\n",
      "======================\n",
      "《如懿傳》洞房花燭 周迅這句話讓霍建華酥麻了！ http://ent.ltn.com.tw/news/breakingnews/2555996 16:24\n",
      "======================\n",
      "中國持有近半股份 委內瑞拉總統出售石油公司Sinovensa http://news.ltn.com.tw/news/business/breakingnews/2555954 16:23\n",
      "======================\n",
      "高雄綠營要求為假民調向市民道歉 韓國瑜這樣說… http://news.ltn.com.tw/news/politics/breakingnews/2556006 16:22\n",
      "======================\n",
      "男神被要求「合個影」 結局神反轉路人全傻眼 http://ent.ltn.com.tw/news/breakingnews/2555972 16:20\n",
      "======================\n",
      "台灣債券ETF達1768億元 規模亞洲最大 http://news.ltn.com.tw/news/business/breakingnews/2556010 16:20\n",
      "======================\n",
      "中天節目台灣跟中國一片紅 民眾向NCC檢舉不符政治現況 http://news.ltn.com.tw/news/politics/breakingnews/2555969 16:20\n",
      "======================\n",
      "抵抗貿易變數 櫃買中心李愛玲推動走向國際化 http://news.ltn.com.tw/news/business/breakingnews/2556009 16:19\n",
      "======================\n",
      "（影音）春桃胸太大衣服扣不上 不滿王牌造型師梵緯惡整 http://ent.ltn.com.tw/news/breakingnews/2555990 16:19\n",
      "======================\n",
      "台灣第一人！ Jamie Wei Huang黃薇登倫敦時裝周官方日程 http://ent.ltn.com.tw/news/breakingnews/2555992 16:17\n",
      "======================\n",
      "（影音）陳珊妮缺席愛徒山東婚禮 無奈吐心聲「十二萬分抱歉」 http://ent.ltn.com.tw/news/breakingnews/2555983 16:10\n",
      "======================\n",
      "氣象局觀測到「萬年高溫」？ 台灣這地方今飆49.7度 http://news.ltn.com.tw/news/life/breakingnews/2555960 16:09\n",
      "======================\n"
     ]
    }
   ],
   "source": [
    "for news in soup.select('.imm li'):\n",
    "    #print(news)\n",
    "    #print(news.select_one('.ph').get('data-desc'))\n",
    "    #print(news.select_one('.tit').get('data-desc'))\n",
    "    title = news.select_one('p').text.strip()\n",
    "    link  = news.select_one('a').get('href')\n",
    "    dt    = news.select_one('span').text\n",
    "    print(title, link, dt)\n",
    "    print('======================')"
   ]
  },
  {
   "cell_type": "markdown",
   "metadata": {},
   "source": [
    "## 抓取內容頁"
   ]
  },
  {
   "cell_type": "code",
   "execution_count": 59,
   "metadata": {},
   "outputs": [],
   "source": [
    "import requests\n",
    "res = requests.get('https://tw.news.appledaily.com/local/realtime/20180919/1432625/')"
   ]
  },
  {
   "cell_type": "code",
   "execution_count": 61,
   "metadata": {},
   "outputs": [],
   "source": [
    "from bs4 import BeautifulSoup\n",
    "soup = BeautifulSoup(res.text, 'lxml')"
   ]
  },
  {
   "cell_type": "code",
   "execution_count": 63,
   "metadata": {},
   "outputs": [
    {
     "data": {
      "text/plain": [
       "<h1>花蓮開出首張搜救罰單　6登山客均攤92萬直升機出勤費</h1>"
      ]
     },
     "execution_count": 63,
     "metadata": {},
     "output_type": "execute_result"
    }
   ],
   "source": [
    "soup.select_one('h1')"
   ]
  },
  {
   "cell_type": "code",
   "execution_count": 65,
   "metadata": {},
   "outputs": [
    {
     "data": {
      "text/plain": [
       "<h1>花蓮開出首張搜救罰單　6登山客均攤92萬直升機出勤費</h1>"
      ]
     },
     "execution_count": 65,
     "metadata": {},
     "output_type": "execute_result"
    }
   ],
   "source": [
    "soup.select('h1')[0]"
   ]
  },
  {
   "cell_type": "code",
   "execution_count": 67,
   "metadata": {},
   "outputs": [
    {
     "name": "stdout",
     "output_type": "stream",
     "text": [
      "花蓮開出首張搜救罰單　6登山客均攤92萬直升機出勤費\n"
     ]
    }
   ],
   "source": [
    "print(soup.select_one('h1').text)"
   ]
  },
  {
   "cell_type": "code",
   "execution_count": 70,
   "metadata": {},
   "outputs": [
    {
     "data": {
      "text/plain": [
       "'花蓮縣消防局上周四開出全國首張搜救直昇機搜救費用92萬元，向爬黑山（未依申請路線）闖入未開放路段登山，而發生意外的登山隊伍請求支付搜救費用，該件有7名登山客入山，造成1人罹難，除死者其他同行6名登山客需平均每人被要求付出15萬3763元的搜救費用，落實使用者付費原則。\\xa0花蓮縣消防局副局長吳兆遠指出，「這是全國首張違法登山搜救付費罰單」。去年6月14日公告「花蓮縣登山活動管理自治條例」，實施花蓮縣境內登山活動之管理及對違規者裁罰及搜救費用索取作業。\\xa0今年2月27日接獲報案，由7名登山客所組成的登山隊伍，因行經管制山域八通關日治越道線馬沙布駐在所附近，其中蔡姓隊友失足滑落邊坡罹難，經相關單位搜救，並由內政部空中勤務總隊派遣航空器吊掛遺體下山。\\xa0該登山隊伍雖依規定向內政部警政署及玉山國家公園提出入園（山）申請，卻未依原申請路線進行登山活動，且進入未開放山域步道致發生不幸事件，因此上周提報花蓮縣政府開出每人新台幣6000元罰單；另發函請空中勤務總隊估算，包含航空器相關油料及耗材等搜救費用計支出為92萬2578元。\\xa0消防局依據自治條例第14條第1項規定：「於本府公告之管制山域從事登山活動遭受登山事故，由本府進行搜救者，本府得以書面命其支付搜救費用。」吳兆遠說，搭機費用以每小時19萬4727元(工時費、航材、燃料)為計算，費時4時45分，因此需負擔92萬2578元。本周一正式由花蓮縣政府發函，針對其他6名登山客要求每人繳納平均15萬3763元搜救費用，於收文後一個月內繳納完畢，若超過期限，將送往法務部行政執行處執行，若對於行政處分內容不服者，也可依規定提出訴願。\\xa0花蓮縣消防局長林文瑞呼籲社會大眾說，進入公告管制山域登山應有完善行前訓練、路線規劃並由合格領隊帶隊，同時應依法申請所需許可文件與辦理登山綜合保險、備妥可供緊急聯絡通訊、定位器材及足夠的電源供應器，並依計畫路線行進，不可擅闖未經開放路段，以免發生危險浪費社會資源。（突發中心李光濱／花蓮報導）'"
      ]
     },
     "execution_count": 70,
     "metadata": {},
     "output_type": "execute_result"
    }
   ],
   "source": [
    "soup.select_one('.ndArticle_margin p').text.split('出版時間')[0]"
   ]
  },
  {
   "cell_type": "code",
   "execution_count": 81,
   "metadata": {},
   "outputs": [
    {
     "data": {
      "text/plain": [
       "'2018/09/19 16:33'"
      ]
     },
     "execution_count": 81,
     "metadata": {},
     "output_type": "execute_result"
    }
   ],
   "source": [
    "soup.select_one('.ndArticle_creat').text.split('：')[1]"
   ]
  },
  {
   "cell_type": "code",
   "execution_count": 82,
   "metadata": {},
   "outputs": [],
   "source": [
    "dt = soup.select_one('.ndArticle_creat').text.split('：')[1]\n",
    "type(dt)"
   ]
  },
  {
   "cell_type": "code",
   "execution_count": 85,
   "metadata": {},
   "outputs": [
    {
     "data": {
      "text/plain": [
       "datetime.datetime(2018, 9, 19, 16, 33)"
      ]
     },
     "execution_count": 85,
     "metadata": {},
     "output_type": "execute_result"
    }
   ],
   "source": [
    "from datetime import datetime\n",
    "datetime.strptime(dt, '%Y/%m/%d %H:%M')"
   ]
  },
  {
   "cell_type": "code",
   "execution_count": 86,
   "metadata": {},
   "outputs": [
    {
     "data": {
      "text/plain": [
       "86825"
      ]
     },
     "execution_count": 86,
     "metadata": {},
     "output_type": "execute_result"
    }
   ],
   "source": [
    "view_cnt = soup.select_one('.ndArticle_view').text\n",
    "int(view_cnt)"
   ]
  },
  {
   "cell_type": "code",
   "execution_count": 77,
   "metadata": {},
   "outputs": [
    {
     "data": {
      "text/plain": [
       "'社會'"
      ]
     },
     "execution_count": 77,
     "metadata": {},
     "output_type": "execute_result"
    }
   ],
   "source": [
    "soup.select('.ndgTag .current')[0].text"
   ]
  },
  {
   "cell_type": "code",
   "execution_count": 79,
   "metadata": {},
   "outputs": [
    {
     "data": {
      "text/plain": [
       "'社會'"
      ]
     },
     "execution_count": 79,
     "metadata": {},
     "output_type": "execute_result"
    }
   ],
   "source": [
    "soup.select('.ndgTag .current')[0].text"
   ]
  },
  {
   "cell_type": "code",
   "execution_count": 90,
   "metadata": {},
   "outputs": [],
   "source": [
    "def pageDetail(url):\n",
    "    ret     = {}\n",
    "    res     = requests.get(url)  \n",
    "    soup    = BeautifulSoup(res.text, 'lxml')\n",
    "    ret['title']    = soup.select_one('h1').text\n",
    "    ret['content']  = soup.select_one('.ndArticle_margin p').text.split('出版時間')[0]\n",
    "    dt = soup.select_one('.ndArticle_creat').text.split('：')[1]\n",
    "    ret['dt']       = datetime.strptime(dt, '%Y/%m/%d %H:%M')\n",
    "    ret['view_cnt'] = int(soup.select_one('.ndArticle_view').text)\n",
    "    ret['category'] = soup.select('.ndgTag .current')[0].text\n",
    "    return ret"
   ]
  },
  {
   "cell_type": "code",
   "execution_count": 91,
   "metadata": {},
   "outputs": [
    {
     "data": {
      "text/plain": [
       "{'category': '社會',\n",
       " 'content': '花蓮縣消防局上周四開出全國首張搜救直昇機搜救費用92萬元，向爬黑山（未依申請路線）闖入未開放路段登山，而發生意外的登山隊伍請求支付搜救費用，該件有7名登山客入山，造成1人罹難，除死者其他同行6名登山客需平均每人被要求付出15萬3763元的搜救費用，落實使用者付費原則。\\xa0花蓮縣消防局副局長吳兆遠指出，「這是全國首張違法登山搜救付費罰單」。去年6月14日公告「花蓮縣登山活動管理自治條例」，實施花蓮縣境內登山活動之管理及對違規者裁罰及搜救費用索取作業。\\xa0今年2月27日接獲報案，由7名登山客所組成的登山隊伍，因行經管制山域八通關日治越道線馬沙布駐在所附近，其中蔡姓隊友失足滑落邊坡罹難，經相關單位搜救，並由內政部空中勤務總隊派遣航空器吊掛遺體下山。\\xa0該登山隊伍雖依規定向內政部警政署及玉山國家公園提出入園（山）申請，卻未依原申請路線進行登山活動，且進入未開放山域步道致發生不幸事件，因此上周提報花蓮縣政府開出每人新台幣6000元罰單；另發函請空中勤務總隊估算，包含航空器相關油料及耗材等搜救費用計支出為92萬2578元。\\xa0消防局依據自治條例第14條第1項規定：「於本府公告之管制山域從事登山活動遭受登山事故，由本府進行搜救者，本府得以書面命其支付搜救費用。」吳兆遠說，搭機費用以每小時19萬4727元(工時費、航材、燃料)為計算，費時4時45分，因此需負擔92萬2578元。本周一正式由花蓮縣政府發函，針對其他6名登山客要求每人繳納平均15萬3763元搜救費用，於收文後一個月內繳納完畢，若超過期限，將送往法務部行政執行處執行，若對於行政處分內容不服者，也可依規定提出訴願。\\xa0花蓮縣消防局長林文瑞呼籲社會大眾說，進入公告管制山域登山應有完善行前訓練、路線規劃並由合格領隊帶隊，同時應依法申請所需許可文件與辦理登山綜合保險、備妥可供緊急聯絡通訊、定位器材及足夠的電源供應器，並依計畫路線行進，不可擅闖未經開放路段，以免發生危險浪費社會資源。（突發中心李光濱／花蓮報導）',\n",
       " 'dt': datetime.datetime(2018, 9, 19, 16, 33),\n",
       " 'title': '花蓮開出首張搜救罰單\\u30006登山客均攤92萬直升機出勤費',\n",
       " 'view_cnt': 92807}"
      ]
     },
     "execution_count": 91,
     "metadata": {},
     "output_type": "execute_result"
    }
   ],
   "source": [
    "pageDetail('https://tw.news.appledaily.com/local/realtime/20180919/1432625/')"
   ]
  },
  {
   "cell_type": "code",
   "execution_count": 92,
   "metadata": {},
   "outputs": [
    {
     "data": {
      "text/plain": [
       "{'category': '3C車市',\n",
       " 'content': '曾因刪除臉書創辦人貼文等事蹟而聲名大噪的「台灣駭客天才」張啟元，這回竟然只花1元在Apple Pay買了502台iPhone！但詢問蘋果官方，對此並未做出回應。張啟元在《臉書》貼出購買截圖，可見他訂了500支iPhone 8 Plus 256GB和2支iPhone XS Max 512GB，總金額為1565萬5800元，但他卻發現只需要1元！「用1元去刷，居然過了，再試一次正常金額的，就沒成功了。」由於他上次也曾發生類似事件，讓他好奇「所以會不會像上次的SE一樣，真的把手機給寄過來了？這樣會有502台欸！」「蘋果仁」也在粉絲頁分享這段訊息，並好奇地寫下「不曉得蘋果會不會真的出貨。」結果不少網友紛紛酸張啟元「我覺得他只是第一次在Apple Store買東西收到認證而已，就誤以為自己成功了」、「我也有這1元啊，很稀奇嗎？隔兩天apple 就跟我收全額啦」、「人家第一次買Apple，我們就多寬容吧，再笑一個小時就好了！」沒想到釣出本尊親回！張啟元打臉地秀出Apple pay交易資料、卡號資料以及上次的SE出貨圖，「2016年8月30日那次的SE也是類似問題，但他真的出貨了」、「2016年8月回報漏洞的編號和信件截圖，那時的問題已修正，這次是另一個相似的問題」，但他也霸氣地說「放心好了！這次訂單我不會讓他們出貨，已經取消了。」並表示上回收到SE，主包裝都沒拆開，拍照後也全退回去了。張啟元2013年無意間發現臉書漏洞，可在幾秒內迅速刪光別人貼文，向臉書反映卻未受重視，便動手刪了薩克柏貼文而聲名大噪，之後又因提交漏洞，獲臉書提供1千美元獎金（約3萬多元台幣），2015年又幫忙自殺過世藝人楊又穎的家屬，解鎖她生前所用手機，再度被報導，但後續發現統聯和7-ELEVEn購票系統漏洞，可1元買到車票或遊樂園門票，引發各界正反兩面評價。（即時新聞中心／綜合報導）出版1058更新1541(新增配音影片)想知道更多，一定要看……張啟元「以駭止駭」！曾有妹私訊「願肉體換新台幣」曾窮到剩50元！張啟元：我不是駭客天才，只是愛打破規則看了這則新聞的人，也看了……台式速食外國人也愛\\u3000南霸天丹丹漢堡！登航空旅遊雜誌小嫻離婚2月吐心情\\u3000想對「另一半」說...\\u200b雙胞胎懷孕被酸問「姐妹丼？」\\u3000她痛斥「A片看太多」',\n",
       " 'dt': datetime.datetime(2018, 9, 19, 15, 41),\n",
       " 'title': '蘋果被破解！「台灣駭客天才」1元買502台iPhone',\n",
       " 'view_cnt': 181996}"
      ]
     },
     "execution_count": 92,
     "metadata": {},
     "output_type": "execute_result"
    }
   ],
   "source": [
    "pageDetail('https://tw.lifestyle.appledaily.com/gadget/realtime/20180919/1432526/')"
   ]
  },
  {
   "cell_type": "markdown",
   "metadata": {},
   "source": [
    "## 完整爬蟲流程 (一)"
   ]
  },
  {
   "cell_type": "code",
   "execution_count": 110,
   "metadata": {},
   "outputs": [],
   "source": [
    "def pageDetail(url):\n",
    "    ret     = {}\n",
    "    res     = requests.get(url)  \n",
    "    soup    = BeautifulSoup(res.text, 'lxml')\n",
    "    ret['title']    = soup.select_one('h1').text\n",
    "    ret['content']  = soup.select_one('.ndArticle_margin p').text.split('出版時間')[0]\n",
    "    dt = soup.select_one('.ndArticle_creat').text.split('：')[1]\n",
    "    ret['dt']       = datetime.strptime(dt, '%Y/%m/%d %H:%M')\n",
    "    if soup.select_one('.ndArticle_view'):\n",
    "        ret['view_cnt'] = int(soup.select_one('.ndArticle_view').text)\n",
    "    ret['category'] = soup.select('.ndgTag .current')[0].text\n",
    "    return ret"
   ]
  },
  {
   "cell_type": "code",
   "execution_count": 111,
   "metadata": {},
   "outputs": [],
   "source": [
    "import requests\n",
    "res = requests.get('https://tw.appledaily.com/new/realtime')"
   ]
  },
  {
   "cell_type": "code",
   "execution_count": 112,
   "metadata": {},
   "outputs": [],
   "source": [
    "from bs4 import BeautifulSoup\n",
    "soup = BeautifulSoup(res.text, 'lxml')"
   ]
  },
  {
   "cell_type": "code",
   "execution_count": 113,
   "metadata": {},
   "outputs": [
    {
     "name": "stdout",
     "output_type": "stream",
     "text": [
      "https://tw.finance.appledaily.com/realtime/20180919/1432463/\n",
      "https://tw.news.appledaily.com/life/realtime/20180919/1432912/\n",
      "https://tw.news.appledaily.com/international/realtime/20180919/1432902/\n",
      "https://tw.news.appledaily.com/life/realtime/20180919/1432873/\n",
      "https://tw.news.appledaily.com/politics/realtime/20180919/1432856/\n",
      "https://tw.news.appledaily.com/life/realtime/20180919/1432908/\n",
      "https://tw.finance.appledaily.com/realtime/20180919/1432911/\n",
      "https://tw.news.appledaily.com/local/realtime/20180919/1432895/\n",
      "https://tw.news.appledaily.com/life/realtime/20180919/1432896/\n",
      "https://tw.entertainment.appledaily.com/realtime/20180919/1432767/\n",
      "https://tw.news.appledaily.com/politics/realtime/20180919/1432891/\n",
      "https://tw.news.appledaily.com/life/realtime/20180919/1432459/\n",
      "https://tw.news.appledaily.com/life/realtime/20180919/1432518/\n",
      "https://tw.finance.appledaily.com/realtime/20180919/1432892/\n",
      "https://tw.sports.appledaily.com/realtime/20180919/1432898/\n",
      "https://tw.news.appledaily.com/local/realtime/20180919/1432666/\n",
      "https://tw.finance.appledaily.com/realtime/20180919/1432744/\n",
      "https://tw.finance.appledaily.com/realtime/20180919/1432888/\n",
      "https://tw.news.appledaily.com/politics/realtime/20180919/1432885/\n",
      "https://tw.news.appledaily.com/politics/realtime/20180919/1432746/\n",
      "https://tw.news.appledaily.com/life/realtime/20180919/1432855/\n",
      "https://tw.news.appledaily.com/politics/realtime/20180919/1432675/\n",
      "https://tw.entertainment.appledaily.com/realtime/20180919/1432814/\n",
      "https://tw.finance.appledaily.com/realtime/20180919/1432620/\n",
      "https://tw.news.appledaily.com/nextmag/realtime/20180919/1432830/\n",
      "https://tw.finance.appledaily.com/realtime/20180919/1432688/\n",
      "https://tw.news.appledaily.com/local/realtime/20180919/1432872/\n",
      "https://tw.sports.appledaily.com/realtime/20180919/1432878/\n",
      "https://tw.news.appledaily.com/life/realtime/20180919/1432862/\n",
      "https://tw.entertainment.appledaily.com/realtime/20180919/1432568/\n"
     ]
    }
   ],
   "source": [
    "news = []\n",
    "for rec in soup.select('.rtddt a'):\n",
    "    link = rec.get('href')\n",
    "    print(link)\n",
    "    ret  = pageDetail(link)\n",
    "    news.append(ret)\n",
    "    "
   ]
  },
  {
   "cell_type": "code",
   "execution_count": 114,
   "metadata": {},
   "outputs": [
    {
     "data": {
      "text/plain": [
       "30"
      ]
     },
     "execution_count": 114,
     "metadata": {},
     "output_type": "execute_result"
    }
   ],
   "source": [
    "len(news)"
   ]
  },
  {
   "cell_type": "code",
   "execution_count": 115,
   "metadata": {},
   "outputs": [
    {
     "data": {
      "text/plain": [
       "{'category': '財經地產',\n",
       " 'content': '股王大立光（3008）昨天除外資因蘋果iXS買氣疑慮，降評下修獲利，重挫425元，吞下跌停板。但事實上，依據證交所資料顯示，9月18日當天大立光創辦人林耀英、董事長林恩舟，以及執行長林恩平等董事，申報轉讓6090張持股，佔家族持股比近4成，市值達235億元，且是以洽特定人方式，受讓人均為茂鈺紀念股份有限公司籌備處代表人林恩平。在昨天吞下跌停後，大立光今天股價以3865元開高，在平盤上震盪，早盤漲幅近1%。大立光發言體系回應表示，茂鈺紀念股份有限公司同樣為董事長、執行長持有之公司，目前還沒有成立，預計10月完成，其作用在於為永續持有大立光股票。按公開發行公司內部人股權申報規定來看，在申報日3天後，得以向符合條件特定人轉讓，大立光這次轉讓預計在9月21日起可以開始轉讓，且須在1個月內完成。根據公開觀測站資料，大立光董事長林恩舟持股4111張，執行長林恩平持股6019張，父親林耀英有2526張，林恩舟夫人也有3680張，合計16336張，這次申報轉讓張數佔家族比重達37%。綜觀台灣上市櫃公司，大立光大股東過往都用自然人持股方式，且大立光創始的4大家族，包括林耀英、林恩舟、林恩平，陳世卿、蔣翠英、梁中仁和謝銘原都是個人持股，4大家族均講好不賣股，讓股權相當穩定。這次申報轉讓是繼2007年後，相隔了11年，格外引發注意。針對林恩平家族將市值約235億元股票轉讓給法人公司，會計師分析，此次大立光將股票轉給投資公司名下，可能有兩個目的，第一為省稅，第二是為家族傳承。會計師表示，很多大老闆都會把股票轉給投資公司，甚至國外的投資公司，第一個原因就是省稅。大立光股價高、會賺錢，每年都分配不少股利，依據稅改後的規定，這些大老闆個人持有若股利，大多按28%稅率分開計算稅額、合併報繳。但若是投資公司拿到股利，就可以暫時免稅，直到該投資公司再往下發放股利，才需要課稅。而第二個原因可能是家族傳承，會計師表示，有了這個投資公司，若未來把股權轉到信託下面，對受託權跟經營權的規劃有彈性跟空間，例如把投資公司股權放在信託，可以約定未來由誰決定、或透過什麼機制才能行使股東權利。（陳俐妏、劉懿慧／台北報導）更新：新增會計師看法、動新聞出版:08:10更新:15:15想知道更多，一定要看……【股王轉讓持股】會計師：家族傳承和省稅兩大目的【股王轉讓持股】心理忌諱\\u3000台灣企業傳承規劃比例低',\n",
       " 'dt': datetime.datetime(2018, 9, 19, 17, 28),\n",
       " 'title': '【股王布局傳承】林恩平家族將235億持股\\u3000轉為法人持有(動畫)',\n",
       " 'view_cnt': 25360}"
      ]
     },
     "execution_count": 115,
     "metadata": {},
     "output_type": "execute_result"
    }
   ],
   "source": [
    "news[0]"
   ]
  },
  {
   "cell_type": "code",
   "execution_count": 103,
   "metadata": {},
   "outputs": [
    {
     "name": "stdout",
     "output_type": "stream",
     "text": [
      "None\n"
     ]
    }
   ],
   "source": [
    "url = 'https://tw.entertainment.appledaily.com/realtime/20180919/1432767/'\n",
    "res     = requests.get(url)  \n",
    "soup    = BeautifulSoup(res.text, 'lxml')\n",
    "print(soup.select_one('.ndArticle_view'))"
   ]
  },
  {
   "cell_type": "code",
   "execution_count": 104,
   "metadata": {},
   "outputs": [
    {
     "name": "stdout",
     "output_type": "stream",
     "text": [
      "yes\n"
     ]
    }
   ],
   "source": [
    "a = 3\n",
    "if a > 2:\n",
    "    print('yes')"
   ]
  },
  {
   "cell_type": "code",
   "execution_count": 105,
   "metadata": {},
   "outputs": [
    {
     "data": {
      "text/plain": [
       "True"
      ]
     },
     "execution_count": 105,
     "metadata": {},
     "output_type": "execute_result"
    }
   ],
   "source": [
    "a > 2"
   ]
  },
  {
   "cell_type": "code",
   "execution_count": 106,
   "metadata": {},
   "outputs": [
    {
     "name": "stdout",
     "output_type": "stream",
     "text": [
      "yes\n"
     ]
    }
   ],
   "source": [
    "if True:\n",
    "    print('yes')"
   ]
  },
  {
   "cell_type": "code",
   "execution_count": 109,
   "metadata": {},
   "outputs": [
    {
     "name": "stdout",
     "output_type": "stream",
     "text": [
      "yes\n"
     ]
    }
   ],
   "source": [
    "if a:\n",
    "    print('yes')"
   ]
  },
  {
   "cell_type": "code",
   "execution_count": 107,
   "metadata": {},
   "outputs": [],
   "source": [
    "if False:\n",
    "    print('yes')"
   ]
  },
  {
   "cell_type": "code",
   "execution_count": 108,
   "metadata": {},
   "outputs": [],
   "source": [
    "if None:\n",
    "    print('yes')"
   ]
  },
  {
   "cell_type": "markdown",
   "metadata": {},
   "source": [
    "## 完整爬蟲流程 (二)"
   ]
  },
  {
   "cell_type": "code",
   "execution_count": 118,
   "metadata": {},
   "outputs": [],
   "source": [
    "import requests\n",
    "from datetime import datetime\n",
    "from bs4 import BeautifulSoup"
   ]
  },
  {
   "cell_type": "code",
   "execution_count": 119,
   "metadata": {},
   "outputs": [],
   "source": [
    "def pageDetail(url):\n",
    "    ret     = {}\n",
    "    res     = requests.get(url)  \n",
    "    soup    = BeautifulSoup(res.text, 'lxml')\n",
    "    ret['title']    = soup.select_one('h1').text\n",
    "    ret['content']  = soup.select_one('.ndArticle_margin p').text.split('出版時間')[0]\n",
    "    dt = soup.select_one('.ndArticle_creat').text.split('：')[1]\n",
    "    ret['dt']       = datetime.strptime(dt, '%Y/%m/%d %H:%M')\n",
    "    if soup.select_one('.ndArticle_view'):\n",
    "        ret['view_cnt'] = int(soup.select_one('.ndArticle_view').text)\n",
    "    ret['category'] = soup.select('.ndgTag .current')[0].text\n",
    "    return ret"
   ]
  },
  {
   "cell_type": "code",
   "execution_count": 120,
   "metadata": {},
   "outputs": [],
   "source": [
    "news_url = 'https://tw.appledaily.com/new/realtime/{}'\n",
    "\n",
    "news = []\n",
    "for i in range(1, 4):\n",
    "    res = requests.get(news_url.format(i))\n",
    "    soup = BeautifulSoup(res.text, 'lxml')\n",
    "    for rec in soup.select('.rtddt a'):\n",
    "        link = rec.get('href')\n",
    "        ret  = pageDetail(link)\n",
    "        news.append(ret)\n",
    "    "
   ]
  },
  {
   "cell_type": "code",
   "execution_count": 121,
   "metadata": {},
   "outputs": [
    {
     "data": {
      "text/plain": [
       "90"
      ]
     },
     "execution_count": 121,
     "metadata": {},
     "output_type": "execute_result"
    }
   ],
   "source": [
    "len(news)"
   ]
  },
  {
   "cell_type": "code",
   "execution_count": 125,
   "metadata": {},
   "outputs": [
    {
     "data": {
      "text/html": [
       "<div>\n",
       "<style>\n",
       "    .dataframe thead tr:only-child th {\n",
       "        text-align: right;\n",
       "    }\n",
       "\n",
       "    .dataframe thead th {\n",
       "        text-align: left;\n",
       "    }\n",
       "\n",
       "    .dataframe tbody tr th {\n",
       "        vertical-align: top;\n",
       "    }\n",
       "</style>\n",
       "<table border=\"1\" class=\"dataframe\">\n",
       "  <thead>\n",
       "    <tr style=\"text-align: right;\">\n",
       "      <th></th>\n",
       "      <th>category</th>\n",
       "      <th>content</th>\n",
       "      <th>dt</th>\n",
       "      <th>title</th>\n",
       "      <th>view_cnt</th>\n",
       "    </tr>\n",
       "  </thead>\n",
       "  <tbody>\n",
       "    <tr>\n",
       "      <th>0</th>\n",
       "      <td>女生</td>\n",
       "      <td>百貨周年慶常常大打折扣戰，不過法國有機保養品牌Melvita推出的禮盒雖僅6折，但因為內容太...</td>\n",
       "      <td>2018-09-19 17:50:00</td>\n",
       "      <td>保養品牌熱推環保風　限定版禮盒有竹吸管</td>\n",
       "      <td>5910.0</td>\n",
       "    </tr>\n",
       "    <tr>\n",
       "      <th>1</th>\n",
       "      <td>體育</td>\n",
       "      <td>澳門非凡12今上演台灣內戰戲碼，SBL(Super Basketball League，超級...</td>\n",
       "      <td>2018-09-19 17:50:00</td>\n",
       "      <td>非凡12台灣內戰呂政儒贏面子　林志傑贏裡子</td>\n",
       "      <td>NaN</td>\n",
       "    </tr>\n",
       "    <tr>\n",
       "      <th>2</th>\n",
       "      <td>女生</td>\n",
       "      <td>五、六年級生一定對仙桃牌通乳丸廣告很有印象！在1960年代就挑戰尺度，大膽啟用豐滿的歐美女模...</td>\n",
       "      <td>2018-09-19 17:49:00</td>\n",
       "      <td>【通乳始祖】新IG美照登場</td>\n",
       "      <td>1298.0</td>\n",
       "    </tr>\n",
       "    <tr>\n",
       "      <th>3</th>\n",
       "      <td>生活</td>\n",
       "      <td>「這裡好好玩喔！」「奇幻精靈是從月亮來的嗎？」嘉楠集團招待來自弱勢家庭的孩子們，到中南部唯一...</td>\n",
       "      <td>2018-09-19 17:49:00</td>\n",
       "      <td>飯店附設親子遊樂區開幕　邀弱勢孩童提前歡度中秋</td>\n",
       "      <td>NaN</td>\n",
       "    </tr>\n",
       "    <tr>\n",
       "      <th>4</th>\n",
       "      <td>社會</td>\n",
       "      <td>花蓮縣消防局上周四開出全國首張搜救直昇機搜救費用92萬元，向爬黑山（未依申請路線）闖入未開放...</td>\n",
       "      <td>2018-09-19 17:48:00</td>\n",
       "      <td>花蓮開出首張搜救罰單　6登山客均攤92萬直升機出勤費</td>\n",
       "      <td>103128.0</td>\n",
       "    </tr>\n",
       "  </tbody>\n",
       "</table>\n",
       "</div>"
      ],
      "text/plain": [
       "  category                                            content  \\\n",
       "0       女生  百貨周年慶常常大打折扣戰，不過法國有機保養品牌Melvita推出的禮盒雖僅6折，但因為內容太...   \n",
       "1       體育  澳門非凡12今上演台灣內戰戲碼，SBL(Super Basketball League，超級...   \n",
       "2       女生  五、六年級生一定對仙桃牌通乳丸廣告很有印象！在1960年代就挑戰尺度，大膽啟用豐滿的歐美女模...   \n",
       "3       生活  「這裡好好玩喔！」「奇幻精靈是從月亮來的嗎？」嘉楠集團招待來自弱勢家庭的孩子們，到中南部唯一...   \n",
       "4       社會  花蓮縣消防局上周四開出全國首張搜救直昇機搜救費用92萬元，向爬黑山（未依申請路線）闖入未開放...   \n",
       "\n",
       "                   dt                       title  view_cnt  \n",
       "0 2018-09-19 17:50:00         保養品牌熱推環保風　限定版禮盒有竹吸管    5910.0  \n",
       "1 2018-09-19 17:50:00       非凡12台灣內戰呂政儒贏面子　林志傑贏裡子       NaN  \n",
       "2 2018-09-19 17:49:00             【通乳始祖】新IG美照登場      1298.0  \n",
       "3 2018-09-19 17:49:00     飯店附設親子遊樂區開幕　邀弱勢孩童提前歡度中秋       NaN  \n",
       "4 2018-09-19 17:48:00  花蓮開出首張搜救罰單　6登山客均攤92萬直升機出勤費  103128.0  "
      ]
     },
     "execution_count": 125,
     "metadata": {},
     "output_type": "execute_result"
    }
   ],
   "source": [
    "import pandas\n",
    "newsdf = pandas.DataFrame(news)\n",
    "newsdf.head()"
   ]
  },
  {
   "cell_type": "code",
   "execution_count": 128,
   "metadata": {},
   "outputs": [
    {
     "data": {
      "text/html": [
       "<div>\n",
       "<style>\n",
       "    .dataframe thead tr:only-child th {\n",
       "        text-align: right;\n",
       "    }\n",
       "\n",
       "    .dataframe thead th {\n",
       "        text-align: left;\n",
       "    }\n",
       "\n",
       "    .dataframe tbody tr th {\n",
       "        vertical-align: top;\n",
       "    }\n",
       "</style>\n",
       "<table border=\"1\" class=\"dataframe\">\n",
       "  <thead>\n",
       "    <tr style=\"text-align: right;\">\n",
       "      <th></th>\n",
       "      <th>category</th>\n",
       "      <th>content</th>\n",
       "      <th>dt</th>\n",
       "      <th>title</th>\n",
       "      <th>view_cnt</th>\n",
       "    </tr>\n",
       "  </thead>\n",
       "  <tbody>\n",
       "    <tr>\n",
       "      <th>4</th>\n",
       "      <td>社會</td>\n",
       "      <td>花蓮縣消防局上周四開出全國首張搜救直昇機搜救費用92萬元，向爬黑山（未依申請路線）闖入未開放...</td>\n",
       "      <td>2018-09-19 17:48:00</td>\n",
       "      <td>花蓮開出首張搜救罰單　6登山客均攤92萬直升機出勤費</td>\n",
       "      <td>103128.0</td>\n",
       "    </tr>\n",
       "    <tr>\n",
       "      <th>59</th>\n",
       "      <td>娛樂時尚</td>\n",
       "      <td>「勇伯」陳松勇講話還是這麼直接！今日出刊的《蘋果》報導，即將在下月8日補辦婚禮的81歲製作人...</td>\n",
       "      <td>2018-09-19 16:52:00</td>\n",
       "      <td>捏冷汗！陳松勇狠酸周遊　「她老公每天考古」</td>\n",
       "      <td>88211.0</td>\n",
       "    </tr>\n",
       "    <tr>\n",
       "      <th>21</th>\n",
       "      <td>社會</td>\n",
       "      <td>（更新：不二家回應）彰化排隊蛋黃酥名店不二家14日才遭許姓男子闖進店內潑紅漆，許男落網後稱買...</td>\n",
       "      <td>2018-09-19 17:31:00</td>\n",
       "      <td>「油漆哥」到案！先潑漆再擺寶蓮燈　恐嚇不二家挨告</td>\n",
       "      <td>83389.0</td>\n",
       "    </tr>\n",
       "    <tr>\n",
       "      <th>84</th>\n",
       "      <td>政治</td>\n",
       "      <td>總統府首位女性武官陳月芳（46歲）遭媒體爆料，在今年8月7日及本月11日，被直擊與總統貼身隨...</td>\n",
       "      <td>2018-09-19 16:25:00</td>\n",
       "      <td>總統特勤偷情下場慘　女武官調離現職、男隨扈調回憲兵部</td>\n",
       "      <td>78716.0</td>\n",
       "    </tr>\n",
       "    <tr>\n",
       "      <th>19</th>\n",
       "      <td>政治</td>\n",
       "      <td>距離年底選舉只剩65天，《蘋果日報》委託世新大學調查選民投票意向，根據最新民調結果，年底高雄...</td>\n",
       "      <td>2018-09-19 17:32:00</td>\n",
       "      <td>【蘋果民調1】高雄戰況激烈！　陳其邁33.8%小勝韓國瑜31.2%</td>\n",
       "      <td>69186.0</td>\n",
       "    </tr>\n",
       "  </tbody>\n",
       "</table>\n",
       "</div>"
      ],
      "text/plain": [
       "   category                                            content  \\\n",
       "4        社會  花蓮縣消防局上周四開出全國首張搜救直昇機搜救費用92萬元，向爬黑山（未依申請路線）闖入未開放...   \n",
       "59     娛樂時尚  「勇伯」陳松勇講話還是這麼直接！今日出刊的《蘋果》報導，即將在下月8日補辦婚禮的81歲製作人...   \n",
       "21       社會  （更新：不二家回應）彰化排隊蛋黃酥名店不二家14日才遭許姓男子闖進店內潑紅漆，許男落網後稱買...   \n",
       "84       政治  總統府首位女性武官陳月芳（46歲）遭媒體爆料，在今年8月7日及本月11日，被直擊與總統貼身隨...   \n",
       "19       政治  距離年底選舉只剩65天，《蘋果日報》委託世新大學調查選民投票意向，根據最新民調結果，年底高雄...   \n",
       "\n",
       "                    dt                              title  view_cnt  \n",
       "4  2018-09-19 17:48:00         花蓮開出首張搜救罰單　6登山客均攤92萬直升機出勤費  103128.0  \n",
       "59 2018-09-19 16:52:00              捏冷汗！陳松勇狠酸周遊　「她老公每天考古」   88211.0  \n",
       "21 2018-09-19 17:31:00           「油漆哥」到案！先潑漆再擺寶蓮燈　恐嚇不二家挨告   83389.0  \n",
       "84 2018-09-19 16:25:00         總統特勤偷情下場慘　女武官調離現職、男隨扈調回憲兵部   78716.0  \n",
       "19 2018-09-19 17:32:00  【蘋果民調1】高雄戰況激烈！　陳其邁33.8%小勝韓國瑜31.2%   69186.0  "
      ]
     },
     "execution_count": 128,
     "metadata": {},
     "output_type": "execute_result"
    }
   ],
   "source": [
    "newsdf.sort_values('view_cnt', ascending=False).head()"
   ]
  },
  {
   "cell_type": "code",
   "execution_count": 131,
   "metadata": {},
   "outputs": [
    {
     "data": {
      "text/plain": [
       "category\n",
       "財經地產    17\n",
       "生活      17\n",
       "社會      16\n",
       "政治      11\n",
       "體育       6\n",
       "娛樂時尚     6\n",
       "壹週刊      6\n",
       "國際       5\n",
       "女生       3\n",
       "論壇       2\n",
       "吃喝玩樂     1\n",
       "Name: title, dtype: int64"
      ]
     },
     "execution_count": 131,
     "metadata": {},
     "output_type": "execute_result"
    }
   ],
   "source": [
    "# SELECT category, count(*) FROM newsdf GROUP BY category\n",
    "newsdf.groupby('category')['title'].count().sort_values(ascending=False)"
   ]
  },
  {
   "cell_type": "code",
   "execution_count": 132,
   "metadata": {},
   "outputs": [
    {
     "data": {
      "text/plain": [
       "category\n",
       "社會      242386.0\n",
       "政治      177790.0\n",
       "財經地產    167466.0\n",
       "娛樂時尚    122076.0\n",
       "體育       45964.0\n",
       "生活       44549.0\n",
       "國際       28615.0\n",
       "女生        9000.0\n",
       "吃喝玩樂      3702.0\n",
       "壹週刊       2573.0\n",
       "論壇        1125.0\n",
       "Name: view_cnt, dtype: float64"
      ]
     },
     "execution_count": 132,
     "metadata": {},
     "output_type": "execute_result"
    }
   ],
   "source": [
    "# SELECT category, sum(view_cnt) FROM newsdf GROUP BY category\n",
    "newsdf.groupby('category')['view_cnt'].sum().sort_values(ascending=False)"
   ]
  },
  {
   "cell_type": "code",
   "execution_count": 133,
   "metadata": {},
   "outputs": [
    {
     "data": {
      "text/plain": [
       "category\n",
       "娛樂時尚    20346.000000\n",
       "政治      16162.727273\n",
       "社會      16159.066667\n",
       "財經地產    10466.625000\n",
       "體育       9192.800000\n",
       "國際       5723.000000\n",
       "吃喝玩樂     3702.000000\n",
       "生活       3182.071429\n",
       "女生       3000.000000\n",
       "論壇        562.500000\n",
       "壹週刊       514.600000\n",
       "Name: view_cnt, dtype: float64"
      ]
     },
     "execution_count": 133,
     "metadata": {},
     "output_type": "execute_result"
    }
   ],
   "source": [
    "# SELECT category, AVG(view_cnt) FROM newsdf GROUP BY category\n",
    "newsdf.groupby('category')['view_cnt'].mean().sort_values(ascending=False)"
   ]
  },
  {
   "cell_type": "code",
   "execution_count": 136,
   "metadata": {},
   "outputs": [
    {
     "data": {
      "text/html": [
       "<div>\n",
       "<style>\n",
       "    .dataframe thead tr:only-child th {\n",
       "        text-align: right;\n",
       "    }\n",
       "\n",
       "    .dataframe thead th {\n",
       "        text-align: left;\n",
       "    }\n",
       "\n",
       "    .dataframe tbody tr th {\n",
       "        vertical-align: top;\n",
       "    }\n",
       "</style>\n",
       "<table border=\"1\" class=\"dataframe\">\n",
       "  <thead>\n",
       "    <tr style=\"text-align: right;\">\n",
       "      <th></th>\n",
       "      <th>category</th>\n",
       "      <th>content</th>\n",
       "      <th>dt</th>\n",
       "      <th>title</th>\n",
       "      <th>view_cnt</th>\n",
       "    </tr>\n",
       "  </thead>\n",
       "  <tbody>\n",
       "    <tr>\n",
       "      <th>0</th>\n",
       "      <td>女生</td>\n",
       "      <td>百貨周年慶常常大打折扣戰，不過法國有機保養品牌Melvita推出的禮盒雖僅6折，但因為內容太...</td>\n",
       "      <td>2018-09-19 17:50:00</td>\n",
       "      <td>保養品牌熱推環保風　限定版禮盒有竹吸管</td>\n",
       "      <td>5910.0</td>\n",
       "    </tr>\n",
       "    <tr>\n",
       "      <th>4</th>\n",
       "      <td>社會</td>\n",
       "      <td>花蓮縣消防局上周四開出全國首張搜救直昇機搜救費用92萬元，向爬黑山（未依申請路線）闖入未開放...</td>\n",
       "      <td>2018-09-19 17:48:00</td>\n",
       "      <td>花蓮開出首張搜救罰單　6登山客均攤92萬直升機出勤費</td>\n",
       "      <td>103128.0</td>\n",
       "    </tr>\n",
       "    <tr>\n",
       "      <th>16</th>\n",
       "      <td>吃喝玩樂</td>\n",
       "      <td>(更新：新增動新聞)外食市場蓬勃發展，不論是親朋好友簡單聚會，或是要享受個人獨處時光，都帶動...</td>\n",
       "      <td>2018-09-19 17:34:00</td>\n",
       "      <td>星巴克推新套餐最高320元　可頌10年賣1700萬份</td>\n",
       "      <td>3702.0</td>\n",
       "    </tr>\n",
       "    <tr>\n",
       "      <th>24</th>\n",
       "      <td>生活</td>\n",
       "      <td>（新增食藥署說法）《蘋果》日前踢爆亞培安素產品疑似變質，更擴及其他產品，全台預防性下架亞培6...</td>\n",
       "      <td>2018-09-19 17:30:00</td>\n",
       "      <td>亞培6產品暫查無異常　食藥署：會再找專家檢視</td>\n",
       "      <td>11677.0</td>\n",
       "    </tr>\n",
       "    <tr>\n",
       "      <th>59</th>\n",
       "      <td>娛樂時尚</td>\n",
       "      <td>「勇伯」陳松勇講話還是這麼直接！今日出刊的《蘋果》報導，即將在下月8日補辦婚禮的81歲製作人...</td>\n",
       "      <td>2018-09-19 16:52:00</td>\n",
       "      <td>捏冷汗！陳松勇狠酸周遊　「她老公每天考古」</td>\n",
       "      <td>88211.0</td>\n",
       "    </tr>\n",
       "    <tr>\n",
       "      <th>65</th>\n",
       "      <td>財經地產</td>\n",
       "      <td>美中貿易戰愈演愈烈，美國總統川普甚至揚言不排除再祭出下一波的2760億美元課稅清單，台灣製造...</td>\n",
       "      <td>2018-09-19 16:47:00</td>\n",
       "      <td>【貿易戰躲回台1】台商搶地設廠　工業區「一地難求」價狂飆</td>\n",
       "      <td>61014.0</td>\n",
       "    </tr>\n",
       "    <tr>\n",
       "      <th>67</th>\n",
       "      <td>體育</td>\n",
       "      <td>16：46（新增影片）總獎金100萬美元、「世界巡迴超級1000」的中國羽球公開賽，今天進行...</td>\n",
       "      <td>2018-09-19 16:46:00</td>\n",
       "      <td>球后戴資穎大爆冷門　中國羽球公開賽首輪遭淘汰</td>\n",
       "      <td>43410.0</td>\n",
       "    </tr>\n",
       "    <tr>\n",
       "      <th>72</th>\n",
       "      <td>國際</td>\n",
       "      <td>體罰殺人！中國湖南省邵陽市一名張姓高中一年級學生，日前因為午休時講話被謝姓導師發現，被處罰從...</td>\n",
       "      <td>2018-09-19 16:39:00</td>\n",
       "      <td>午休講話被罰蛙跳　高一生五孔流血斃命</td>\n",
       "      <td>19957.0</td>\n",
       "    </tr>\n",
       "    <tr>\n",
       "      <th>79</th>\n",
       "      <td>論壇</td>\n",
       "      <td>奧譜 . 卡思 ／醫師 關於居禮夫人正名事件，波蘭台北辦事處：「歐洲都使用全名，讓大眾認清她...</td>\n",
       "      <td>2018-09-19 16:30:00</td>\n",
       "      <td>「居禮夫人」改名爭議背後的「國族議題」</td>\n",
       "      <td>1018.0</td>\n",
       "    </tr>\n",
       "    <tr>\n",
       "      <th>80</th>\n",
       "      <td>壹週刊</td>\n",
       "      <td>看本篇完整版內容，請點以下連結：彭于晏全裸5秒害人家溼了！日夜操肌全為這女人https://...</td>\n",
       "      <td>2018-09-19 16:30:00</td>\n",
       "      <td>【壹週刊】彭于晏全裸5秒害人家溼了！日夜操肌全為這女人</td>\n",
       "      <td>1708.0</td>\n",
       "    </tr>\n",
       "    <tr>\n",
       "      <th>84</th>\n",
       "      <td>政治</td>\n",
       "      <td>總統府首位女性武官陳月芳（46歲）遭媒體爆料，在今年8月7日及本月11日，被直擊與總統貼身隨...</td>\n",
       "      <td>2018-09-19 16:25:00</td>\n",
       "      <td>總統特勤偷情下場慘　女武官調離現職、男隨扈調回憲兵部</td>\n",
       "      <td>78716.0</td>\n",
       "    </tr>\n",
       "  </tbody>\n",
       "</table>\n",
       "</div>"
      ],
      "text/plain": [
       "   category                                            content  \\\n",
       "0        女生  百貨周年慶常常大打折扣戰，不過法國有機保養品牌Melvita推出的禮盒雖僅6折，但因為內容太...   \n",
       "4        社會  花蓮縣消防局上周四開出全國首張搜救直昇機搜救費用92萬元，向爬黑山（未依申請路線）闖入未開放...   \n",
       "16     吃喝玩樂  (更新：新增動新聞)外食市場蓬勃發展，不論是親朋好友簡單聚會，或是要享受個人獨處時光，都帶動...   \n",
       "24       生活  （新增食藥署說法）《蘋果》日前踢爆亞培安素產品疑似變質，更擴及其他產品，全台預防性下架亞培6...   \n",
       "59     娛樂時尚  「勇伯」陳松勇講話還是這麼直接！今日出刊的《蘋果》報導，即將在下月8日補辦婚禮的81歲製作人...   \n",
       "65     財經地產  美中貿易戰愈演愈烈，美國總統川普甚至揚言不排除再祭出下一波的2760億美元課稅清單，台灣製造...   \n",
       "67       體育  16：46（新增影片）總獎金100萬美元、「世界巡迴超級1000」的中國羽球公開賽，今天進行...   \n",
       "72       國際  體罰殺人！中國湖南省邵陽市一名張姓高中一年級學生，日前因為午休時講話被謝姓導師發現，被處罰從...   \n",
       "79       論壇  奧譜 . 卡思 ／醫師 關於居禮夫人正名事件，波蘭台北辦事處：「歐洲都使用全名，讓大眾認清她...   \n",
       "80      壹週刊  看本篇完整版內容，請點以下連結：彭于晏全裸5秒害人家溼了！日夜操肌全為這女人https://...   \n",
       "84       政治  總統府首位女性武官陳月芳（46歲）遭媒體爆料，在今年8月7日及本月11日，被直擊與總統貼身隨...   \n",
       "\n",
       "                    dt                         title  view_cnt  \n",
       "0  2018-09-19 17:50:00           保養品牌熱推環保風　限定版禮盒有竹吸管    5910.0  \n",
       "4  2018-09-19 17:48:00    花蓮開出首張搜救罰單　6登山客均攤92萬直升機出勤費  103128.0  \n",
       "16 2018-09-19 17:34:00    星巴克推新套餐最高320元　可頌10年賣1700萬份    3702.0  \n",
       "24 2018-09-19 17:30:00        亞培6產品暫查無異常　食藥署：會再找專家檢視   11677.0  \n",
       "59 2018-09-19 16:52:00         捏冷汗！陳松勇狠酸周遊　「她老公每天考古」   88211.0  \n",
       "65 2018-09-19 16:47:00  【貿易戰躲回台1】台商搶地設廠　工業區「一地難求」價狂飆   61014.0  \n",
       "67 2018-09-19 16:46:00        球后戴資穎大爆冷門　中國羽球公開賽首輪遭淘汰   43410.0  \n",
       "72 2018-09-19 16:39:00            午休講話被罰蛙跳　高一生五孔流血斃命   19957.0  \n",
       "79 2018-09-19 16:30:00           「居禮夫人」改名爭議背後的「國族議題」    1018.0  \n",
       "80 2018-09-19 16:30:00   【壹週刊】彭于晏全裸5秒害人家溼了！日夜操肌全為這女人    1708.0  \n",
       "84 2018-09-19 16:25:00    總統特勤偷情下場慘　女武官調離現職、男隨扈調回憲兵部   78716.0  "
      ]
     },
     "execution_count": 136,
     "metadata": {},
     "output_type": "execute_result"
    }
   ],
   "source": [
    "newsdf[newsdf.groupby('category')['view_cnt'].transform(max) == newsdf['view_cnt']]"
   ]
  },
  {
   "cell_type": "code",
   "execution_count": 142,
   "metadata": {},
   "outputs": [
    {
     "name": "stdout",
     "output_type": "stream",
     "text": [
      "Populating the interactive namespace from numpy and matplotlib\n"
     ]
    },
    {
     "data": {
      "text/plain": [
       "<matplotlib.axes._subplots.AxesSubplot at 0x110bd1588>"
      ]
     },
     "execution_count": 142,
     "metadata": {},
     "output_type": "execute_result"
    },
    {
     "data": {
      "image/png": "[encoded data removed]",
      "text/plain": [
       "<Figure size 360x360 with 1 Axes>"
      ]
     },
     "metadata": {},
     "output_type": "display_data"
    }
   ],
   "source": [
    "%pylab inline\n",
    "import matplotlib.pyplot as plt\n",
    "plt.rcParams['font.sans-serif'] = ['simhei']\n",
    "# SELECT category, sum(view_cnt) FROM newsdf GROUP BY category\n",
    "newsdf.groupby('category')['view_cnt'].sum().sort_values(ascending=False).plot(kind = 'pie', figsize = [5,5])"
   ]
  },
  {
   "cell_type": "code",
   "execution_count": 143,
   "metadata": {},
   "outputs": [
    {
     "name": "stdout",
     "output_type": "stream",
     "text": [
      "Populating the interactive namespace from numpy and matplotlib\n"
     ]
    },
    {
     "data": {
      "text/plain": [
       "<matplotlib.axes._subplots.AxesSubplot at 0x110a3d908>"
      ]
     },
     "execution_count": 143,
     "metadata": {},
     "output_type": "execute_result"
    },
    {
     "data": {
      "image/png": "[encoded data removed]",
      "text/plain": [
       "<Figure size 360x360 with 1 Axes>"
      ]
     },
     "metadata": {},
     "output_type": "display_data"
    }
   ],
   "source": [
    "%pylab inline\n",
    "import matplotlib.pyplot as plt\n",
    "plt.rcParams['font.sans-serif'] = ['simhei']\n",
    "# SELECT category, sum(view_cnt) FROM newsdf GROUP BY category\n",
    "newsdf.groupby('category')['view_cnt'].sum().sort_values(ascending=False).plot(kind = 'bar', figsize = [5,5])"
   ]
  },
  {
   "cell_type": "code",
   "execution_count": 147,
   "metadata": {},
   "outputs": [
    {
     "name": "stdout",
     "output_type": "stream",
     "text": [
      "Populating the interactive namespace from numpy and matplotlib\n"
     ]
    },
    {
     "data": {
      "text/plain": [
       "<matplotlib.axes._subplots.AxesSubplot at 0x11107df98>"
      ]
     },
     "execution_count": 147,
     "metadata": {},
     "output_type": "execute_result"
    },
    {
     "data": {
      "image/png": "[encoded data removed]",
      "text/plain": [
       "<Figure size 360x360 with 1 Axes>"
      ]
     },
     "metadata": {},
     "output_type": "display_data"
    }
   ],
   "source": [
    "%pylab inline\n",
    "import matplotlib.pyplot as plt\n",
    "plt.rcParams['font.sans-serif'] = ['simhei']\n",
    "# SELECT category, sum(view_cnt) FROM newsdf GROUP BY category\n",
    "newsdf.groupby('category')['view_cnt'].sum().sort_values(ascending=False).plot(kind = 'barh', figsize = [5,5])"
   ]
  },
  {
   "cell_type": "code",
   "execution_count": 148,
   "metadata": {},
   "outputs": [],
   "source": [
    "newsdf.to_excel('applenews.xlsx')"
   ]
  },
  {
   "cell_type": "markdown",
   "metadata": {},
   "source": [
    "## 591"
   ]
  },
  {
   "cell_type": "code",
   "execution_count": 149,
   "metadata": {},
   "outputs": [
    {
     "data": {
      "text/plain": [
       "<Response [404]>"
      ]
     },
     "execution_count": 149,
     "metadata": {},
     "output_type": "execute_result"
    }
   ],
   "source": [
    "import requests\n",
    "res = requests.get('https://sale.591.com.tw/home/search/list?type=2&&shType=list&regionid=1&section=5&firstRow=60&totalRows=1865&timestamp=1537352534207')\n",
    "res"
   ]
  },
  {
   "cell_type": "code",
   "execution_count": 151,
   "metadata": {},
   "outputs": [
    {
     "data": {
      "text/plain": [
       "<Response [200]>"
      ]
     },
     "execution_count": 151,
     "metadata": {},
     "output_type": "execute_result"
    }
   ],
   "source": [
    "import requests\n",
    "headers = {  \n",
    "   'User-Agent':'qoo' \n",
    "}\n",
    "res = requests.get('https://www.largitdata.com', headers = headers)\n",
    "res"
   ]
  },
  {
   "cell_type": "code",
   "execution_count": 152,
   "metadata": {},
   "outputs": [
    {
     "data": {
      "text/plain": [
       "<Response [200]>"
      ]
     },
     "execution_count": 152,
     "metadata": {},
     "output_type": "execute_result"
    }
   ],
   "source": [
    "import requests\n",
    "headers = {\n",
    "  'User-Agent': 'Mozilla/5.0 (Macintosh; Intel Mac OS X 10_13_6) AppleWebKit/537.36 (KHTML, like Gecko) Chrome/68.0.3440.106 Safari/537.36'  \n",
    "}\n",
    "res = requests.get('https://sale.591.com.tw/home/search/list?type=2&&shType=list&regionid=1&section=5&firstRow=60&totalRows=1865&timestamp=1537352534207', headers = headers)\n",
    "res"
   ]
  },
  {
   "cell_type": "code",
   "execution_count": 155,
   "metadata": {},
   "outputs": [],
   "source": [
    "jd = res.json()"
   ]
  },
  {
   "cell_type": "code",
   "execution_count": 158,
   "metadata": {},
   "outputs": [],
   "source": [
    "\n",
    "housedf = pandas.DataFrame(jd['data']['house_list'])"
   ]
  },
  {
   "cell_type": "code",
   "execution_count": 170,
   "metadata": {},
   "outputs": [
    {
     "data": {
      "text/html": [
       "<div>\n",
       "<style>\n",
       "    .dataframe thead tr:only-child th {\n",
       "        text-align: right;\n",
       "    }\n",
       "\n",
       "    .dataframe thead th {\n",
       "        text-align: left;\n",
       "    }\n",
       "\n",
       "    .dataframe tbody tr th {\n",
       "        vertical-align: top;\n",
       "    }\n",
       "</style>\n",
       "<table border=\"1\" class=\"dataframe\">\n",
       "  <thead>\n",
       "    <tr style=\"text-align: right;\">\n",
       "      <th></th>\n",
       "      <th>address</th>\n",
       "      <th>area</th>\n",
       "      <th>browsenum</th>\n",
       "      <th>cartmodel</th>\n",
       "      <th>carttype</th>\n",
       "      <th>community_link</th>\n",
       "      <th>community_name</th>\n",
       "      <th>delivery</th>\n",
       "      <th>down_price_percent</th>\n",
       "      <th>fci_pai</th>\n",
       "      <th>...</th>\n",
       "      <th>saletype</th>\n",
       "      <th>section_name</th>\n",
       "      <th>shape_name</th>\n",
       "      <th>showhouseage</th>\n",
       "      <th>showprice</th>\n",
       "      <th>tag</th>\n",
       "      <th>title</th>\n",
       "      <th>type</th>\n",
       "      <th>unit_price</th>\n",
       "      <th>unitprice</th>\n",
       "    </tr>\n",
       "  </thead>\n",
       "  <tbody>\n",
       "    <tr>\n",
       "      <th>0</th>\n",
       "      <td>通化街</td>\n",
       "      <td>57.60</td>\n",
       "      <td>227</td>\n",
       "      <td></td>\n",
       "      <td></td>\n",
       "      <td></td>\n",
       "      <td></td>\n",
       "      <td></td>\n",
       "      <td>NaN</td>\n",
       "      <td></td>\n",
       "      <td>...</td>\n",
       "      <td>0</td>\n",
       "      <td>大安區</td>\n",
       "      <td>電梯大樓</td>\n",
       "      <td>38年</td>\n",
       "      <td>4,750</td>\n",
       "      <td>[有陽台]</td>\n",
       "      <td>近遠企商圈/六張犂捷運站電梯用置產屋</td>\n",
       "      <td>2</td>\n",
       "      <td>82.47萬/坪</td>\n",
       "      <td>82.47</td>\n",
       "    </tr>\n",
       "    <tr>\n",
       "      <th>1</th>\n",
       "      <td>延吉街241巷</td>\n",
       "      <td>38.72</td>\n",
       "      <td>544</td>\n",
       "      <td></td>\n",
       "      <td></td>\n",
       "      <td></td>\n",
       "      <td>光信公園華廈</td>\n",
       "      <td></td>\n",
       "      <td>NaN</td>\n",
       "      <td></td>\n",
       "      <td>...</td>\n",
       "      <td>0</td>\n",
       "      <td>大安區</td>\n",
       "      <td>電梯大樓</td>\n",
       "      <td>35年</td>\n",
       "      <td>3,580</td>\n",
       "      <td>[明星學區, 有陽台, 低公設]</td>\n",
       "      <td>獨家!延吉正面公園綠蔭美景雙拼美廈可停車</td>\n",
       "      <td>2</td>\n",
       "      <td>92.46萬/坪</td>\n",
       "      <td>92.46</td>\n",
       "    </tr>\n",
       "    <tr>\n",
       "      <th>2</th>\n",
       "      <td>和平東路三段212巷</td>\n",
       "      <td>44.57</td>\n",
       "      <td>540</td>\n",
       "      <td></td>\n",
       "      <td></td>\n",
       "      <td></td>\n",
       "      <td>友座臻璽</td>\n",
       "      <td></td>\n",
       "      <td>NaN</td>\n",
       "      <td></td>\n",
       "      <td>...</td>\n",
       "      <td>0</td>\n",
       "      <td>大安區</td>\n",
       "      <td>電梯大樓</td>\n",
       "      <td>9個月</td>\n",
       "      <td>4,680</td>\n",
       "      <td>[含車位, 有陽台, 製震宅]</td>\n",
       "      <td>全新友座臻璽高樓大車位住商劉匡珉</td>\n",
       "      <td>2</td>\n",
       "      <td>97.15萬/坪</td>\n",
       "      <td>97.15</td>\n",
       "    </tr>\n",
       "  </tbody>\n",
       "</table>\n",
       "<p>3 rows × 44 columns</p>\n",
       "</div>"
      ],
      "text/plain": [
       "      address   area  browsenum cartmodel carttype community_link  \\\n",
       "0         通化街  57.60        227                                     \n",
       "1     延吉街241巷  38.72        544                                     \n",
       "2  和平東路三段212巷  44.57        540                                     \n",
       "\n",
       "  community_name delivery  down_price_percent fci_pai    ...     saletype  \\\n",
       "0                                         NaN            ...            0   \n",
       "1         光信公園華廈                          NaN            ...            0   \n",
       "2           友座臻璽                          NaN            ...            0   \n",
       "\n",
       "   section_name  shape_name  showhouseage showprice               tag  \\\n",
       "0           大安區        電梯大樓           38年     4,750             [有陽台]   \n",
       "1           大安區        電梯大樓           35年     3,580  [明星學區, 有陽台, 低公設]   \n",
       "2           大安區        電梯大樓           9個月     4,680   [含車位, 有陽台, 製震宅]   \n",
       "\n",
       "                  title  type unit_price  unitprice  \n",
       "0    近遠企商圈/六張犂捷運站電梯用置產屋     2   82.47萬/坪      82.47  \n",
       "1  獨家!延吉正面公園綠蔭美景雙拼美廈可停車     2   92.46萬/坪      92.46  \n",
       "2      全新友座臻璽高樓大車位住商劉匡珉     2   97.15萬/坪      97.15  \n",
       "\n",
       "[3 rows x 44 columns]"
      ]
     },
     "execution_count": 170,
     "metadata": {},
     "output_type": "execute_result"
    }
   ],
   "source": [
    "housedf.head(3)"
   ]
  },
  {
   "cell_type": "code",
   "execution_count": null,
   "metadata": {},
   "outputs": [],
   "source": [
    "#https://sale.591.com.tw/home/search/list?type=2&&shType=list&regionid=1&section=5&firstRow=60&totalRows=1865&timestamp=1537352534207\n",
    "#https://sale.591.com.tw/home/search/list?type=2&#&shType=list&regionid=1&section=5&firstRow=90&totalRows=1865&timestamp=1537353245528"
   ]
  },
  {
   "cell_type": "code",
   "execution_count": 160,
   "metadata": {},
   "outputs": [
    {
     "data": {
      "text/plain": [
       "<Response [200]>"
      ]
     },
     "execution_count": 160,
     "metadata": {},
     "output_type": "execute_result"
    }
   ],
   "source": [
    "import requests\n",
    "headers = {\n",
    "  'User-Agent': 'Mozilla/5.0 (Macintosh; Intel Mac OS X 10_13_6) AppleWebKit/537.36 (KHTML, like Gecko) Chrome/68.0.3440.106 Safari/537.36'  \n",
    "}\n",
    "res = requests.get('https://sale.591.com.tw/home/search/list?type=2&&shType=list&regionid=1&section=5&firstRow=60&totalRows=1865', headers = headers)\n",
    "res\n"
   ]
  },
  {
   "cell_type": "code",
   "execution_count": 175,
   "metadata": {},
   "outputs": [],
   "source": [
    "import math, time\n",
    "houseurl = 'https://sale.591.com.tw/home/search/list?type=2&&shType=list&regionid=1&section=5&firstRow={}&totalRows=1865'\n",
    "\n",
    "houseary = [] \n",
    "for i in range(  0 , math.ceil(1865/30)  ): \n",
    "    res = requests.get(houseurl.format(i * 30), headers = headers)\n",
    "    jd  = res.json()\n",
    "    time.sleep(1)\n",
    "    houseary.extend(jd['data']['house_list'])"
   ]
  },
  {
   "cell_type": "code",
   "execution_count": 176,
   "metadata": {},
   "outputs": [
    {
     "data": {
      "text/plain": [
       "1869"
      ]
     },
     "execution_count": 176,
     "metadata": {},
     "output_type": "execute_result"
    }
   ],
   "source": [
    "len(houseary)"
   ]
  },
  {
   "cell_type": "code",
   "execution_count": 178,
   "metadata": {},
   "outputs": [
    {
     "data": {
      "text/html": [
       "<div>\n",
       "<style>\n",
       "    .dataframe thead tr:only-child th {\n",
       "        text-align: right;\n",
       "    }\n",
       "\n",
       "    .dataframe thead th {\n",
       "        text-align: left;\n",
       "    }\n",
       "\n",
       "    .dataframe tbody tr th {\n",
       "        vertical-align: top;\n",
       "    }\n",
       "</style>\n",
       "<table border=\"1\" class=\"dataframe\">\n",
       "  <thead>\n",
       "    <tr style=\"text-align: right;\">\n",
       "      <th></th>\n",
       "      <th>address</th>\n",
       "      <th>area</th>\n",
       "      <th>browsenum</th>\n",
       "      <th>build_purpose</th>\n",
       "      <th>call_num</th>\n",
       "      <th>cartmodel</th>\n",
       "      <th>carttype</th>\n",
       "      <th>community_link</th>\n",
       "      <th>community_name</th>\n",
       "      <th>company</th>\n",
       "      <th>...</th>\n",
       "      <th>show_unitprice_unit</th>\n",
       "      <th>showarea</th>\n",
       "      <th>showhouseage</th>\n",
       "      <th>showprice</th>\n",
       "      <th>street_name</th>\n",
       "      <th>tag</th>\n",
       "      <th>title</th>\n",
       "      <th>type</th>\n",
       "      <th>unit_price</th>\n",
       "      <th>unitprice</th>\n",
       "    </tr>\n",
       "  </thead>\n",
       "  <tbody>\n",
       "    <tr>\n",
       "      <th>0</th>\n",
       "      <td>NaN</td>\n",
       "      <td>43.00</td>\n",
       "      <td>0</td>\n",
       "      <td>華廈</td>\n",
       "      <td>14.0</td>\n",
       "      <td>NaN</td>\n",
       "      <td>NaN</td>\n",
       "      <td>NaN</td>\n",
       "      <td>NaN</td>\n",
       "      <td>富裔實業</td>\n",
       "      <td>...</td>\n",
       "      <td>萬元/坪</td>\n",
       "      <td>43坪</td>\n",
       "      <td>NaN</td>\n",
       "      <td>NaN</td>\n",
       "      <td>大安路一段206巷16號</td>\n",
       "      <td>[預售屋, 住商用, 捷運宅, 明星學區, 近公園]</td>\n",
       "      <td>富裔Corner</td>\n",
       "      <td>8</td>\n",
       "      <td>NaN</td>\n",
       "      <td>155</td>\n",
       "    </tr>\n",
       "    <tr>\n",
       "      <th>1</th>\n",
       "      <td>仁愛路四段345巷</td>\n",
       "      <td>49.25</td>\n",
       "      <td>2625</td>\n",
       "      <td>NaN</td>\n",
       "      <td>NaN</td>\n",
       "      <td></td>\n",
       "      <td></td>\n",
       "      <td></td>\n",
       "      <td>興雅別墅</td>\n",
       "      <td>NaN</td>\n",
       "      <td>...</td>\n",
       "      <td>NaN</td>\n",
       "      <td>NaN</td>\n",
       "      <td>40年</td>\n",
       "      <td>4,978</td>\n",
       "      <td>NaN</td>\n",
       "      <td>[有陽台]</td>\n",
       "      <td>仁愛延吉千萬裝潢美屋</td>\n",
       "      <td>2</td>\n",
       "      <td>101.08萬/坪</td>\n",
       "      <td>101.08</td>\n",
       "    </tr>\n",
       "    <tr>\n",
       "      <th>2</th>\n",
       "      <td>信義路四段</td>\n",
       "      <td>6.00</td>\n",
       "      <td>33</td>\n",
       "      <td>NaN</td>\n",
       "      <td>NaN</td>\n",
       "      <td>機械式</td>\n",
       "      <td>室內地下</td>\n",
       "      <td></td>\n",
       "      <td></td>\n",
       "      <td>NaN</td>\n",
       "      <td>...</td>\n",
       "      <td>NaN</td>\n",
       "      <td>NaN</td>\n",
       "      <td></td>\n",
       "      <td>220</td>\n",
       "      <td>NaN</td>\n",
       "      <td>[]</td>\n",
       "      <td>售信義通化路口稀有僅存黃金機械車位租可</td>\n",
       "      <td>2</td>\n",
       "      <td>36.67萬/坪</td>\n",
       "      <td>36.67</td>\n",
       "    </tr>\n",
       "  </tbody>\n",
       "</table>\n",
       "<p>3 rows × 59 columns</p>\n",
       "</div>"
      ],
      "text/plain": [
       "     address   area  browsenum build_purpose  call_num cartmodel carttype  \\\n",
       "0        NaN  43.00          0            華廈      14.0       NaN      NaN   \n",
       "1  仁愛路四段345巷  49.25       2625           NaN       NaN                      \n",
       "2      信義路四段   6.00         33           NaN       NaN       機械式     室內地下   \n",
       "\n",
       "  community_link community_name company    ...     show_unitprice_unit  \\\n",
       "0            NaN            NaN    富裔實業    ...                    萬元/坪   \n",
       "1                          興雅別墅     NaN    ...                     NaN   \n",
       "2                                   NaN    ...                     NaN   \n",
       "\n",
       "   showarea showhouseage showprice   street_name                         tag  \\\n",
       "0       43坪          NaN       NaN  大安路一段206巷16號  [預售屋, 住商用, 捷運宅, 明星學區, 近公園]   \n",
       "1       NaN          40年     4,978           NaN                       [有陽台]   \n",
       "2       NaN                    220           NaN                          []   \n",
       "\n",
       "                 title type  unit_price  unitprice  \n",
       "0             富裔Corner    8         NaN        155  \n",
       "1           仁愛延吉千萬裝潢美屋    2   101.08萬/坪     101.08  \n",
       "2  售信義通化路口稀有僅存黃金機械車位租可    2    36.67萬/坪      36.67  \n",
       "\n",
       "[3 rows x 59 columns]"
      ]
     },
     "execution_count": 178,
     "metadata": {},
     "output_type": "execute_result"
    }
   ],
   "source": [
    "import pandas\n",
    "housedf = pandas.DataFrame(houseary)\n",
    "housedf.head(3)"
   ]
  },
  {
   "cell_type": "code",
   "execution_count": 179,
   "metadata": {},
   "outputs": [],
   "source": [
    "housedf.to_excel('house591.xlsx')"
   ]
  },
  {
   "cell_type": "code",
   "execution_count": 173,
   "metadata": {},
   "outputs": [
    {
     "data": {
      "text/plain": [
       "[1, 2, 3, 4, 5, 6]"
      ]
     },
     "execution_count": 173,
     "metadata": {},
     "output_type": "execute_result"
    }
   ],
   "source": [
    "a = [1,2,3]\n",
    "b = [4,5,6]\n",
    "a.extend(b)\n",
    "a"
   ]
  },
  {
   "cell_type": "code",
   "execution_count": 180,
   "metadata": {},
   "outputs": [],
   "source": [
    "import time\n",
    "time.sleep(3)"
   ]
  },
  {
   "cell_type": "code",
   "execution_count": null,
   "metadata": {},
   "outputs": [],
   "source": []
  }
 ],
 "metadata": {
  "kernelspec": {
   "display_name": "Python 3",
   "language": "python",
   "name": "python3"
  },
  "language_info": {
   "codemirror_mode": {
    "name": "ipython",
    "version": 3
   },
   "file_extension": ".py",
   "mimetype": "text/x-python",
   "name": "python",
   "nbconvert_exporter": "python",
   "pygments_lexer": "ipython3",
   "version": "3.6.2"
  }
 },
 "nbformat": 4,
 "nbformat_minor": 2
}
